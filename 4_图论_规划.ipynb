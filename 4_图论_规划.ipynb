{
  "nbformat": 4,
  "nbformat_minor": 0,
  "metadata": {
    "colab": {
      "provenance": [],
      "toc_visible": true,
      "authorship_tag": "ABX9TyNIhNiZtKACeGdnC+BDKZTr",
      "include_colab_link": true
    },
    "kernelspec": {
      "name": "python3",
      "display_name": "Python 3"
    },
    "language_info": {
      "name": "python"
    }
  },
  "cells": [
    {
      "cell_type": "markdown",
      "metadata": {
        "id": "view-in-github",
        "colab_type": "text"
      },
      "source": [
        "<a href=\"https://colab.research.google.com/github/Renata1027/Mathematical-modeling/blob/main/4_%E5%9B%BE%E8%AE%BA_%E8%A7%84%E5%88%92.ipynb\" target=\"_parent\"><img src=\"https://colab.research.google.com/assets/colab-badge.svg\" alt=\"Open In Colab\"/></a>"
      ]
    },
    {
      "cell_type": "markdown",
      "source": [
        "# 1.优化问题"
      ],
      "metadata": {
        "id": "YkbxmRbJM07V"
      }
    },
    {
      "cell_type": "markdown",
      "source": [
        "## 1.1 数学原理\n",
        "\n",
        "**优化问题 (Optimization Problem)** 在数学上可以抽象为以下核心要素：\n",
        "\n",
        "1.  **决策变量 (Decision Variables):**  \n",
        "    需要做出选择的未知量。通常用向量表示，记为 $\\mathbf{x} = (x_1, x_2, \\dots, x_n)$。  \n",
        "    *例如：生产量、投资额、路径选择。*\n",
        "\n",
        "2.  **目标函数 (Objective Function):**  \n",
        "    衡量解决方案“好坏”的函数，需 **最大化** 或 **最小化**。记为 $f(\\mathbf{x})$。  \n",
        "    *例如：利润 $f(\\mathbf{x}) = \\sum c_i x_i$（最大化），成本 $f(\\mathbf{x}) = \\|\\mathbf{Ax} - \\mathbf{b}\\|^2$（最小化）。*\n",
        "\n",
        "3.  **约束条件 (Constraints):**  \n",
        "    定义决策变量的可行范围，分为：  \n",
        "    - **等式约束**：$g_i(\\mathbf{x}) = 0 \\quad (i=1,\\dots,m)$  \n",
        "    - **不等式约束**：$h_j(\\mathbf{x}) \\leq 0 \\quad (j=1,\\dots,p)$  \n",
        "    *例如：资源限制 $\\sum a_{ij}x_j \\leq b_i$，非负性 $x_k \\geq 0$。*\n",
        "\n",
        "4.  **可行域 (Feasible Set):**  \n",
        "    所有满足约束的 $\\mathbf{x}$ 的集合：  \n",
        "    $$\n",
        "    \\mathcal{S} = \\{\\mathbf{x} \\mid g_i(\\mathbf{x}) = 0, h_j(\\mathbf{x}) \\leq 0\\}\n",
        "    $$\n",
        "\n",
        "5.  **最优解 (Optimal Solution):**  \n",
        "    在 $\\mathcal{S}$ 中使 $f(\\mathbf{x})$ 取极值的解 $ \\mathbf{x}^* $，对应的\n",
        "    $ f( \\mathbf{x}^* ) $ 称为 **最优值**。\n",
        "\n",
        "**数学形式化表达：**\n",
        "$$\n",
        "\\begin{align*}\n",
        "\\min_{\\mathbf{x}} \\quad & f(\\mathbf{x}) \\\\\n",
        "\\text{s.t.} \\quad & g_i(\\mathbf{x}) = 0 \\quad \\forall i, \\\\\n",
        "& h_j(\\mathbf{x}) \\leq 0 \\quad \\forall j.\n",
        "\\end{align*}\n",
        "$$\n",
        "\n",
        "**分类关键维度：**\n",
        "- **目标函数**：线性（$f(\\mathbf{x}) = \\mathbf{c}^T\\mathbf{x}$） vs. 非线性（如 $f(\\mathbf{x}) = \\mathbf{x}^T\\mathbf{Qx}$）。\n",
        "- **约束**：线性（$\\mathbf{Ax} \\leq \\mathbf{b}$） vs. 非线性（如 $\\|\\mathbf{x}\\| \\leq 1$）。\n",
        "- **变量类型**：连续 vs. 离散（如整数 $x_i \\in \\mathbb{Z}$）。\n",
        "- **可行域性质**：凸集（$\\forall \\mathbf{x}, \\mathbf{y} \\in \\mathcal{S}, \\theta \\mathbf{x} + (1-\\theta)\\mathbf{y} \\in \\mathcal{S}$） vs. 非凸。\n"
      ],
      "metadata": {
        "id": "L4xmU5jzNCMO"
      }
    },
    {
      "cell_type": "markdown",
      "source": [
        "## 1.2 算法内容"
      ],
      "metadata": {
        "id": "zf_3kDOjc-ZV"
      }
    },
    {
      "cell_type": "markdown",
      "source": [
        "\n",
        "### 1.2.1 线性规划 (Linear Programming - LP)\n",
        "**模型形式：**\n",
        "$$\n",
        "\\begin{align*}\n",
        "\\min_{\\mathbf{x}} \\quad & \\mathbf{c}^T\\mathbf{x} \\\\\n",
        "\\text{s.t.} \\quad & \\mathbf{Ax} \\leq \\mathbf{b}, \\\\\n",
        "& \\mathbf{x} \\geq 0.\n",
        "\\end{align*}\n",
        "$$\n",
        "**求解算法：**\n",
        "- **单纯形法**：沿多面体顶点迭代，时间复杂度指数级但实际高效。\n",
        "- **内点法**：多项式时间算法，适合大规模问题。\n",
        "\n",
        "**几何解释**：可行域为凸多面体，最优解必在顶点处。\n"
      ],
      "metadata": {
        "id": "5YGjemffcQkl"
      }
    },
    {
      "cell_type": "code",
      "source": [
        "\"\"\"\n",
        "1. 线性规划 (Linear Programming, LP)\n",
        "定义： 线性规划是一种优化技术，用于在由线性等式和不等式定义的区域中最大化或最小化线性目标函数。所有决策变量必须是连续的。\n",
        "\n",
        "示例： 假设一家公司生产两种产品：产品 A 和产品 B。\n",
        "\n",
        "生产产品 A 需要 2 小时机器时间和 1 小时人工时间。\n",
        "\n",
        "生产产品 B 需要 1 小时机器时间和 3 小时人工时间。\n",
        "\n",
        "每天可用的机器时间上限为 100 小时，人工时间上限为 120 小时。\n",
        "\n",
        "产品 A 的利润为每单位 30 美元，产品 B 的利润为每单位 20 美元。\n",
        "公司目标是最大化总利润。\n",
        "\n",
        "代码实现： 我们将使用 scipy.optimize.linprog 来解决这个问题。\n",
        "\"\"\"\n",
        "from scipy.optimize import linprog\n",
        "\n",
        "# 利润系数 (目标函数：最大化 30*x + 20*y，所以是 -30, -20)\n",
        "c = [-30, -20]\n",
        "\n",
        "# 不等式约束矩阵\n",
        "# 2x + 1y <= 100 (机器时间)\n",
        "# 1x + 3y <= 120 (人工时间)\n",
        "A = [[2, 1],\n",
        "     [1, 3]]\n",
        "\n",
        "# 不等式约束右侧向量\n",
        "b = [100, 120]\n",
        "\n",
        "# 变量的边界 (x >= 0, y >= 0)\n",
        "x0_bounds = (0, None)\n",
        "x1_bounds = (0, None)\n",
        "\n",
        "res = linprog(c, A_ub=A, b_ub=b, bounds=[x0_bounds, x1_bounds], method='highs')\n",
        "\n",
        "print(\"--- 线性规划 ---\")\n",
        "if res.success:\n",
        "    print(f\"产品A产量: {res.x[0]:.2f}\")\n",
        "    print(f\"产品B产量: {res.x[1]:.2f}\")\n",
        "    print(f\"最大利润: {-res.fun:.2f}\") # linprog 默认最小化，所以结果取反\n",
        "else:\n",
        "    print(\"线性规划求解失败。\")"
      ],
      "metadata": {
        "colab": {
          "base_uri": "https://localhost:8080/"
        },
        "id": "xLpVq7-AhDFc",
        "outputId": "8dedbe54-86b5-4031-a92f-9fbaac8ee3d6"
      },
      "execution_count": null,
      "outputs": [
        {
          "output_type": "stream",
          "name": "stdout",
          "text": [
            "--- 线性规划 ---\n",
            "产品A产量: 36.00\n",
            "产品B产量: 28.00\n",
            "最大利润: 1640.00\n"
          ]
        }
      ]
    },
    {
      "cell_type": "markdown",
      "source": [
        "\n",
        "---\n",
        "\n",
        "### 1.2.2 整数规划 (Integer Programming - IP)\n",
        "**模型形式：**\n",
        "$$\n",
        "\\begin{align*}\n",
        "\\min_{\\mathbf{x}} \\quad & \\mathbf{c}^T\\mathbf{x} \\\\\n",
        "\\text{s.t.} \\quad & \\mathbf{Ax} \\leq \\mathbf{b}, \\\\\n",
        "& x_i \\in \\mathbb{Z} \\quad \\forall i \\in \\mathcal{I}.\n",
        "\\end{align*}\n",
        "$$\n",
        "**核心方法：**\n",
        "- **分支定界 (B&B)**：  \n",
        "  1. 松弛为LP问题，求解得到下界。  \n",
        "  2. 若解非整数，分支为子问题并递归求解。  \n",
        "  3. 利用剪枝规则减少计算量。\n",
        "- **切割平面法**：添加线性约束收紧可行域。\n",
        "\n",
        "**复杂度**：NP-Hard，求解难度随问题规模指数增长。"
      ],
      "metadata": {
        "id": "F0VSpqtWcTyq"
      }
    },
    {
      "cell_type": "code",
      "source": [
        "\"\"\"\n",
        "2. 整数规划 (Integer Programming, IP)\n",
        "定义： 整数规划是线性规划的扩展，其中部分或所有决策变量必须是整数。如果所有变量都是整数，则称为纯整数规划；如果部分是整数，则称为混合整数规划。\n",
        "\n",
        "示例： 延续线性规划的例子，如果产品 A 和产品 B 只能以整数单位生产，则这是一个整数规划问题。\n",
        "\n",
        "代码实现： 我们将使用 pulp 库来解决整数规划问题。\n",
        "\n",
        "\"\"\"\n",
        "\n",
        "!pip install pulp\n",
        "from pulp import *\n",
        "\n",
        "# 创建问题实例\n",
        "prob = LpProblem(\"产品生产问题\", LpMaximize)\n",
        "\n",
        "# 定义决策变量\n",
        "# Cat='Integer' 表示变量必须是整数\n",
        "x = LpVariable(\"产品A\", 0, None, LpInteger)\n",
        "y = LpVariable(\"产品B\", 0, None, LpInteger)\n",
        "\n",
        "# 定义目标函数\n",
        "prob += 30 * x + 20 * y, \"总利润\"\n",
        "\n",
        "# 定义约束\n",
        "prob += 2 * x + 1 * y <= 100, \"机器时间约束\"\n",
        "prob += 1 * x + 3 * y <= 120, \"人工时间约束\"\n",
        "\n",
        "# 求解问题\n",
        "prob.solve()\n",
        "\n",
        "print(\"\\n--- 整数规划 ---\")\n",
        "if LpStatus[prob.status] == 'Optimal':\n",
        "    print(f\"产品A产量: {value(x):.0f}\") # 强制转换为整数显示\n",
        "    print(f\"产品B产量: {value(y):.0f}\") # 强制转换为整数显示\n",
        "    print(f\"最大利润: {value(prob.objective):.2f}\")\n",
        "else:\n",
        "    print(\"整数规划求解失败。\")"
      ],
      "metadata": {
        "colab": {
          "base_uri": "https://localhost:8080/"
        },
        "id": "DMuM-m6mhNfu",
        "outputId": "ab74f1d9-698b-426b-b7a0-ee90cd031412"
      },
      "execution_count": null,
      "outputs": [
        {
          "output_type": "stream",
          "name": "stdout",
          "text": [
            "Collecting pulp\n",
            "  Downloading pulp-3.2.2-py3-none-any.whl.metadata (6.9 kB)\n",
            "Downloading pulp-3.2.2-py3-none-any.whl (16.4 MB)\n",
            "\u001b[2K   \u001b[90m━━━━━━━━━━━━━━━━━━━━━━━━━━━━━━━━━━━━━━━━\u001b[0m \u001b[32m16.4/16.4 MB\u001b[0m \u001b[31m79.6 MB/s\u001b[0m eta \u001b[36m0:00:00\u001b[0m\n",
            "\u001b[?25hInstalling collected packages: pulp\n",
            "Successfully installed pulp-3.2.2\n",
            "\n",
            "--- 整数规划 ---\n",
            "产品A产量: 36\n",
            "产品B产量: 28\n",
            "最大利润: 1640.00\n"
          ]
        }
      ]
    },
    {
      "cell_type": "markdown",
      "source": [
        "---\n",
        "\n",
        "### 1.2.3 非线性规划 (Nonlinear Programming - NLP)\n",
        "**模型形式：**\n",
        "$$\n",
        "\\begin{align*}\n",
        "\\min_{\\mathbf{x}} \\quad & f(\\mathbf{x}) \\\\\n",
        "\\text{s.t.} \\quad & g_i(\\mathbf{x}) = 0, \\\\\n",
        "& h_j(\\mathbf{x}) \\leq 0.\n",
        "\\end{align*}\n",
        "$$\n",
        "**关键概念：**\n",
        "- **凸性**：若 $f$ 为凸函数且 $\\mathcal{S}$ 为凸集，则局部最优即全局最优。\n",
        "- **KKT条件**：最优解需满足：\n",
        "  $$\n",
        "  \\nabla f(\\mathbf{x}^*) + \\sum \\lambda_i \\nabla g_i(\\mathbf{x}^*) + \\sum \\mu_j \\nabla h_j(\\mathbf{x}^*) = 0, \\\\\n",
        "  \\mu_j h_j(\\mathbf{x}^*) = 0 \\quad (\\text{互补松弛性}).\n",
        "  $$\n",
        "\n",
        "**算法**：梯度下降法、SQP、内点法。\n"
      ],
      "metadata": {
        "id": "hWhEJsHocZCe"
      }
    },
    {
      "cell_type": "code",
      "source": [
        "\"\"\"\n",
        "3. 非线性规划 (Nonlinear Programming, NLP)\n",
        "定义： 非线性规划是一种优化技术，其中目标函数或一个或多个约束是非线性的。这使得问题通常比线性规划更难求解，并且可能存在多个局部最优解。\n",
        "\n",
        "示例： 假设一个农场要用 200 米的围栏围一个矩形区域来最大化面积。但这次，围栏的成本不是均匀的，而是与围栏的长度平方成正比（例如，长边围栏每米成本更高）。目标是最大化面积，同时考虑非线性成本函数。\n",
        "\n",
        "代码实现： 我们将使用 scipy.optimize.minimize。\n",
        "\"\"\"\n",
        "from scipy.optimize import minimize\n",
        "\n",
        "# 定义目标函数 (最小化负面积以最大化面积)\n",
        "# x[0] 是长度，x[1] 是宽度\n",
        "def objective(x):\n",
        "    return -(x[0] * x[1])\n",
        "\n",
        "# 定义约束函数\n",
        "# 2 * (x[0] + x[1]) <= 200 (围栏总长)\n",
        "# 注意：这里我们简化为周长约束，实际非线性成本更复杂。\n",
        "# 目标函数的非线性性已经体现了非线性规划。\n",
        "def constraint1(x):\n",
        "    return 200 - (2 * (x[0] + x[1]))\n",
        "\n",
        "# 变量边界 (长度和宽度都必须非负)\n",
        "b = (0.0, None)\n",
        "bounds = (b, b)\n",
        "\n",
        "# 初始猜测值\n",
        "x0 = [10, 10]\n",
        "\n",
        "# 定义约束字典\n",
        "con1 = {'type': 'ineq', 'fun': constraint1}\n",
        "constraints = [con1]\n",
        "\n",
        "# 求解\n",
        "sol = minimize(objective, x0, method='SLSQP', bounds=bounds, constraints=constraints)\n",
        "\n",
        "print(\"\\n--- 非线性规划 ---\")\n",
        "if sol.success:\n",
        "    print(f\"矩形长度: {sol.x[0]:.2f} 米\")\n",
        "    print(f\"矩形宽度: {sol.x[1]:.2f} 米\")\n",
        "    print(f\"最大面积: {-sol.fun:.2f} 平方米\") # 最小化负面积，所以取反\n",
        "else:\n",
        "    print(\"非线性规划求解失败。\")"
      ],
      "metadata": {
        "colab": {
          "base_uri": "https://localhost:8080/"
        },
        "id": "swyC1hG5h0KS",
        "outputId": "74f80494-e4fb-4582-f545-f3525b595874"
      },
      "execution_count": null,
      "outputs": [
        {
          "output_type": "stream",
          "name": "stdout",
          "text": [
            "\n",
            "--- 非线性规划 ---\n",
            "矩形长度: 50.00 米\n",
            "矩形宽度: 50.00 米\n",
            "最大面积: 2500.00 平方米\n"
          ]
        }
      ]
    },
    {
      "cell_type": "markdown",
      "source": [
        "\n",
        "\n",
        "\n",
        "---\n",
        "\n",
        "### 1.2.4 动态规划 (Dynamic Programming - DP)\n",
        "**贝尔曼方程：**\n",
        "$$\n",
        "V_t(s) = \\min_{a \\in \\mathcal{A}} \\left\\{ R(s,a) + \\gamma \\sum_{s'} P(s'|s,a) V_{t+1}(s') \\right\\}\n",
        "$$\n",
        "**求解步骤：**\n",
        "1. 定义状态 $s$ 和阶段 $t$。\n",
        "2. 逆向递推计算值函数 $V_t(s)$。\n",
        "3. 通过策略改进得到最优策略。\n",
        "\n",
        "**应用**：最短路径、资源分配、强化学习。\n"
      ],
      "metadata": {
        "id": "zUZG3A_Vccoj"
      }
    },
    {
      "cell_type": "code",
      "source": [
        "\"\"\"\n",
        "4. 动态规划 (Dynamic Programming, DP)\n",
        "定义： 动态规划是一种通过将复杂问题分解成更小的子问题来解决问题的优化方法。它通常用于具有重叠子问题和最优子结构性质的问题。\n",
        "\n",
        "示例： 0/1 背包问题。假设你有一个背包，最大承重为 W。有 n 件物品，每件物品有其对应的重量和价值。你希望选择一些物品放入背包，使得在不超过背包承重的前提下，物品的总价值最大。每件物品只能选择一次（0或1）。\n",
        "\"\"\"\n",
        "def knapsack(weights, values, capacity):\n",
        "    n = len(weights)\n",
        "    # dp[i][w] 表示前 i 件物品，背包容量为 w 时的最大价值\n",
        "    dp = [[0 for _ in range(capacity + 1)] for _ in range(n + 1)]\n",
        "\n",
        "    for i in range(1, n + 1):\n",
        "        for w in range(1, capacity + 1):\n",
        "            # 如果当前物品的重量小于等于当前背包容量\n",
        "            if weights[i-1] <= w:\n",
        "                # 考虑放入当前物品或不放入当前物品\n",
        "                dp[i][w] = max(values[i-1] + dp[i-1][w - weights[i-1]], dp[i-1][w])\n",
        "            else:\n",
        "                # 不放入当前物品\n",
        "                dp[i][w] = dp[i-1][w]\n",
        "    return dp[n][capacity]\n",
        "\n",
        "weights = [10, 20, 30]\n",
        "values = [60, 100, 120]\n",
        "capacity = 50\n",
        "\n",
        "max_value = knapsack(weights, values, capacity)\n",
        "\n",
        "print(\"\\n--- 动态规划 (0/1 背包问题) ---\")\n",
        "print(f\"物品重量: {weights}\")\n",
        "print(f\"物品价值: {values}\")\n",
        "print(f\"背包容量: {capacity}\")\n",
        "print(f\"最大总价值: {max_value}\")"
      ],
      "metadata": {
        "colab": {
          "base_uri": "https://localhost:8080/"
        },
        "id": "R4i9X9F2h7WC",
        "outputId": "4b2547aa-c959-47f6-f34c-2222d7fd0e9d"
      },
      "execution_count": null,
      "outputs": [
        {
          "output_type": "stream",
          "name": "stdout",
          "text": [
            "\n",
            "--- 动态规划 (0/1 背包问题) ---\n",
            "物品重量: [10, 20, 30]\n",
            "物品价值: [60, 100, 120]\n",
            "背包容量: 50\n",
            "最大总价值: 220\n"
          ]
        }
      ]
    },
    {
      "cell_type": "markdown",
      "source": [
        "\n",
        "---\n",
        "\n",
        "### 1.2.5 多目标优化 (Multi-objective Optimization)\n",
        "**Pareto最优解定义**：  \n",
        "解 $\\mathbf{x}^*$ 是Pareto最优的，若不存在 $\\mathbf{x} \\in \\mathcal{S}$ 使得：\n",
        "$$\n",
        "\\forall i, f_i(\\mathbf{x}) \\leq f_i(\\mathbf{x}^*), \\\\\n",
        "\\exists j, f_j(\\mathbf{x}) < f_j(\\mathbf{x}^*).\n",
        "$$\n",
        "**求解方法**：  \n",
        "- **加权和法**：$\\min \\sum w_i f_i(\\mathbf{x})$。  \n",
        "- **$\\epsilon$-约束法**：将部分目标转为约束。  \n",
        "- **NSGA-II**：基于非支配排序的进化算法。\n"
      ],
      "metadata": {
        "id": "Ecux84Zzcluz"
      }
    },
    {
      "cell_type": "code",
      "source": [
        "\"\"\"\n",
        "5. 多目标优化 (Multi-Objective Optimization, MOO)\n",
        "定义： 多目标优化涉及同时优化两个或多个相互冲突的目标函数。其目标是找到一组帕累托最优解，其中一个目标函数无法在不损害另一个目标函数的情况下得到改进。\n",
        "\n",
        "示例： 投资组合优化。投资者希望最大化投资组合的收益，同时最小化风险。这两个目标通常是冲突的：高收益通常伴随着高风险。\n",
        "\n",
        "代码实现： 这是一个概念性示例，因为真正的多目标优化通常涉及更复杂的算法（如 NSGA-II），这里我们将展示一个简化的帕累托前沿思想。\n",
        "\"\"\"\n",
        "import matplotlib.pyplot as plt\n",
        "\n",
        "# 假设有几组投资组合的风险和收益数据\n",
        "# 风险 (越低越好)\n",
        "risks = [0.05, 0.08, 0.12, 0.15, 0.20]\n",
        "# 收益 (越高越好)\n",
        "returns = [0.07, 0.10, 0.13, 0.14, 0.16]\n",
        "\n",
        "# 假设这些点已经代表了某种形式的帕累托前沿\n",
        "# 实际中需要通过优化算法生成这些点\n",
        "\n",
        "print(\"\\n--- 多目标优化 (概念性示例 - 投资组合帕累托前沿) ---\")\n",
        "print(\"投资组合风险: \", risks)\n",
        "print(\"投资组合收益: \", returns)\n",
        "\n",
        "plt.figure(figsize=(8, 6))\n",
        "plt.scatter(risks, returns, color='blue', label='投资组合')\n",
        "plt.plot(risks, returns, color='red', linestyle='--', label='帕累托前沿 (示例)')\n",
        "plt.title('风险 vs 收益')\n",
        "plt.xlabel('风险 (Risk)')\n",
        "plt.ylabel('收益 (Return)')\n",
        "plt.grid(True)\n",
        "plt.legend()\n",
        "plt.show()\n",
        "\n",
        "print(\"\\n图表显示了投资组合的风险和收益之间的权衡。红色的虚线代表了理想情况下的帕累托前沿，线上任何一个点都代表着在不增加风险的前提下无法获得更高收益，或在不降低收益的前提下无法降低风险的投资组合。\")"
      ],
      "metadata": {
        "colab": {
          "base_uri": "https://localhost:8080/",
          "height": 1000
        },
        "id": "8PbxM_J3iDix",
        "outputId": "91837530-9c22-429d-a3eb-dd8dd5e8381e"
      },
      "execution_count": null,
      "outputs": [
        {
          "output_type": "stream",
          "name": "stdout",
          "text": [
            "\n",
            "--- 多目标优化 (概念性示例 - 投资组合帕累托前沿) ---\n",
            "投资组合风险:  [0.05, 0.08, 0.12, 0.15, 0.2]\n",
            "投资组合收益:  [0.07, 0.1, 0.13, 0.14, 0.16]\n"
          ]
        },
        {
          "output_type": "stream",
          "name": "stderr",
          "text": [
            "/usr/local/lib/python3.11/dist-packages/IPython/core/pylabtools.py:151: UserWarning: Glyph 25910 (\\N{CJK UNIFIED IDEOGRAPH-6536}) missing from font(s) DejaVu Sans.\n",
            "  fig.canvas.print_figure(bytes_io, **kw)\n",
            "/usr/local/lib/python3.11/dist-packages/IPython/core/pylabtools.py:151: UserWarning: Glyph 30410 (\\N{CJK UNIFIED IDEOGRAPH-76CA}) missing from font(s) DejaVu Sans.\n",
            "  fig.canvas.print_figure(bytes_io, **kw)\n",
            "/usr/local/lib/python3.11/dist-packages/IPython/core/pylabtools.py:151: UserWarning: Glyph 39118 (\\N{CJK UNIFIED IDEOGRAPH-98CE}) missing from font(s) DejaVu Sans.\n",
            "  fig.canvas.print_figure(bytes_io, **kw)\n",
            "/usr/local/lib/python3.11/dist-packages/IPython/core/pylabtools.py:151: UserWarning: Glyph 38505 (\\N{CJK UNIFIED IDEOGRAPH-9669}) missing from font(s) DejaVu Sans.\n",
            "  fig.canvas.print_figure(bytes_io, **kw)\n",
            "/usr/local/lib/python3.11/dist-packages/IPython/core/pylabtools.py:151: UserWarning: Glyph 25237 (\\N{CJK UNIFIED IDEOGRAPH-6295}) missing from font(s) DejaVu Sans.\n",
            "  fig.canvas.print_figure(bytes_io, **kw)\n",
            "/usr/local/lib/python3.11/dist-packages/IPython/core/pylabtools.py:151: UserWarning: Glyph 36164 (\\N{CJK UNIFIED IDEOGRAPH-8D44}) missing from font(s) DejaVu Sans.\n",
            "  fig.canvas.print_figure(bytes_io, **kw)\n",
            "/usr/local/lib/python3.11/dist-packages/IPython/core/pylabtools.py:151: UserWarning: Glyph 32452 (\\N{CJK UNIFIED IDEOGRAPH-7EC4}) missing from font(s) DejaVu Sans.\n",
            "  fig.canvas.print_figure(bytes_io, **kw)\n",
            "/usr/local/lib/python3.11/dist-packages/IPython/core/pylabtools.py:151: UserWarning: Glyph 21512 (\\N{CJK UNIFIED IDEOGRAPH-5408}) missing from font(s) DejaVu Sans.\n",
            "  fig.canvas.print_figure(bytes_io, **kw)\n",
            "/usr/local/lib/python3.11/dist-packages/IPython/core/pylabtools.py:151: UserWarning: Glyph 24085 (\\N{CJK UNIFIED IDEOGRAPH-5E15}) missing from font(s) DejaVu Sans.\n",
            "  fig.canvas.print_figure(bytes_io, **kw)\n",
            "/usr/local/lib/python3.11/dist-packages/IPython/core/pylabtools.py:151: UserWarning: Glyph 32047 (\\N{CJK UNIFIED IDEOGRAPH-7D2F}) missing from font(s) DejaVu Sans.\n",
            "  fig.canvas.print_figure(bytes_io, **kw)\n",
            "/usr/local/lib/python3.11/dist-packages/IPython/core/pylabtools.py:151: UserWarning: Glyph 25176 (\\N{CJK UNIFIED IDEOGRAPH-6258}) missing from font(s) DejaVu Sans.\n",
            "  fig.canvas.print_figure(bytes_io, **kw)\n",
            "/usr/local/lib/python3.11/dist-packages/IPython/core/pylabtools.py:151: UserWarning: Glyph 21069 (\\N{CJK UNIFIED IDEOGRAPH-524D}) missing from font(s) DejaVu Sans.\n",
            "  fig.canvas.print_figure(bytes_io, **kw)\n",
            "/usr/local/lib/python3.11/dist-packages/IPython/core/pylabtools.py:151: UserWarning: Glyph 27839 (\\N{CJK UNIFIED IDEOGRAPH-6CBF}) missing from font(s) DejaVu Sans.\n",
            "  fig.canvas.print_figure(bytes_io, **kw)\n",
            "/usr/local/lib/python3.11/dist-packages/IPython/core/pylabtools.py:151: UserWarning: Glyph 31034 (\\N{CJK UNIFIED IDEOGRAPH-793A}) missing from font(s) DejaVu Sans.\n",
            "  fig.canvas.print_figure(bytes_io, **kw)\n",
            "/usr/local/lib/python3.11/dist-packages/IPython/core/pylabtools.py:151: UserWarning: Glyph 20363 (\\N{CJK UNIFIED IDEOGRAPH-4F8B}) missing from font(s) DejaVu Sans.\n",
            "  fig.canvas.print_figure(bytes_io, **kw)\n"
          ]
        },
        {
          "output_type": "display_data",
          "data": {
            "text/plain": [
              "<Figure size 800x600 with 1 Axes>"
            ],
            "image/png": "[encoded data removed]"
          },
          "metadata": {}
        },
        {
          "output_type": "stream",
          "name": "stdout",
          "text": [
            "\n",
            "图表显示了投资组合的风险和收益之间的权衡。红色的虚线代表了理想情况下的帕累托前沿，线上任何一个点都代表着在不增加风险的前提下无法获得更高收益，或在不降低收益的前提下无法降低风险的投资组合。\n"
          ]
        }
      ]
    },
    {
      "cell_type": "markdown",
      "source": [
        "\n",
        "---\n",
        "\n",
        "### 1.2.6 元启发式算法 (Metaheuristics)\n",
        "**通用流程：**\n",
        "1. 初始化种群/解。\n",
        "2. 迭代更新（如交叉、变异、邻域搜索）。\n",
        "3. 评估并选择新一代解。\n",
        "\n",
        "**示例算法：**\n",
        "- **遗传算法 (GA)**：选择-交叉-变异。\n",
        "- **粒子群优化 (PSO)**：  \n",
        "  速度更新公式：\n",
        "  $$\n",
        "  v_i^{k+1} = \\omega v_i^k + c_1 r_1 (p_i^k - x_i^k) + c_2 r_2 (g^k - x_i^k).\n",
        "  $$\n"
      ],
      "metadata": {
        "id": "PeIXdkcjPDUg"
      }
    },
    {
      "cell_type": "code",
      "source": [
        "\"\"\"\n",
        "6. 元启发算法 (Metaheuristic Algorithms)\n",
        "定义： 元启发算法是一类高层次的通用算法，通常用于解决复杂优化问题，特别是那些计算量大、难以用精确方法在合理时间内求解的问题。它们不保证找到最优解，但通常能找到非常接近最优解的良好解。常见的元启发算法包括遗传算法、模拟退火、粒子群优化、蚁群优化等。\n",
        "\n",
        "示例： 旅行商问题 (Traveling Salesperson Problem, TSP)。一个旅行商需要访问一系列城市，每个城市只访问一次，并最终返回起点。目标是找到一条总行程最短的路径。这是一个 NP-hard 问题，对于大量城市，精确求解几乎不可能。\n",
        "\n",
        "代码实现： 我们将使用一个简单的遗传算法来解决 TSP 问题。\n",
        "\"\"\"\n",
        "import random\n",
        "import numpy as np\n",
        "import matplotlib.pyplot as plt\n",
        "\n",
        "# 城市坐标\n",
        "cities = {\n",
        "    'A': (0, 0), 'B': (1, 3), 'C': (4, 1), 'D': (5, 4), 'E': (2, 5)\n",
        "}\n",
        "city_names = list(cities.keys())\n",
        "num_cities = len(city_names)\n",
        "\n",
        "# 计算距离矩阵\n",
        "distances = np.zeros((num_cities, num_cities))\n",
        "for i in range(num_cities):\n",
        "    for j in range(num_cities):\n",
        "        city1_coords = cities[city_names[i]]\n",
        "        city2_coords = cities[city_names[j]]\n",
        "        distances[i, j] = np.sqrt((city1_coords[0] - city2_coords[0])**2 + (city1_coords[1] - city2_coords[1])**2)\n",
        "\n",
        "# 遗传算法参数\n",
        "POP_SIZE = 100\n",
        "GENERATIONS = 500\n",
        "MUTATION_RATE = 0.02\n",
        "ELITE_SIZE = 10 # 精英保留的数量\n",
        "\n",
        "# 适应度函数：路径长度的倒数\n",
        "def calculate_fitness(path):\n",
        "    total_distance = 0\n",
        "    for i in range(num_cities):\n",
        "        start_city_idx = path[i]\n",
        "        end_city_idx = path[(i + 1) % num_cities] # 形成回路\n",
        "        total_distance += distances[start_city_idx, end_city_idx]\n",
        "    # 适应度是距离的倒数，因为我们想最小化距离\n",
        "    return 1 / total_distance\n",
        "\n",
        "# 初始化种群\n",
        "def create_initial_population(pop_size, num_cities):\n",
        "    population = []\n",
        "    for _ in range(pop_size):\n",
        "        individual = list(range(num_cities)) # [0, 1, 2, ..., num_cities-1]\n",
        "        random.shuffle(individual)\n",
        "        population.append(individual)\n",
        "    return population\n",
        "\n",
        "# 选择 (锦标赛选择)\n",
        "def selection(population, fitnesses, elite_size):\n",
        "    sorted_population = [x for _, x in sorted(zip(fitnesses, population), reverse=True)]\n",
        "    return sorted_population[:elite_size]\n",
        "\n",
        "# 交叉 (顺序交叉 Ox)\n",
        "def crossover(parent1, parent2):\n",
        "    size = len(parent1)\n",
        "    child = [-1] * size\n",
        "    start, end = sorted(random.sample(range(size), 2))\n",
        "\n",
        "    # 复制一部分父代1\n",
        "    child[start:end+1] = parent1[start:end+1]\n",
        "\n",
        "    # 填充剩余部分，保持父代2的顺序\n",
        "    current_pos = (end + 1) % size\n",
        "    for gene in parent2:\n",
        "        if gene not in child:\n",
        "            while child[current_pos] != -1:\n",
        "                current_pos = (current_pos + 1) % size\n",
        "            child[current_pos] = gene\n",
        "    return child\n",
        "\n",
        "# 变异 (交换变异)\n",
        "def mutate(individual, mutation_rate):\n",
        "    if random.random() < mutation_rate:\n",
        "        idx1, idx2 = random.sample(range(len(individual)), 2)\n",
        "        individual[idx1], individual[idx2] = individual[idx2], individual[idx1]\n",
        "    return individual\n",
        "\n",
        "# 遗传算法主循环\n",
        "def genetic_algorithm_tsp():\n",
        "    population = create_initial_population(POP_SIZE, num_cities)\n",
        "    best_overall_path = None\n",
        "    best_overall_fitness = 0\n",
        "\n",
        "    for gen in range(GENERATIONS):\n",
        "        fitnesses = [calculate_fitness(individual) for individual in population]\n",
        "        current_best_fitness = max(fitnesses)\n",
        "        current_best_path = population[fitnesses.index(current_best_fitness)]\n",
        "\n",
        "        if current_best_fitness > best_overall_fitness:\n",
        "            best_overall_fitness = current_best_fitness\n",
        "            best_overall_path = current_best_path\n",
        "\n",
        "        elite = selection(population, fitnesses, ELITE_SIZE)\n",
        "        next_population = elite[:] # 精英直接进入下一代\n",
        "\n",
        "        while len(next_population) < POP_SIZE:\n",
        "            parent1 = random.choice(elite) # 从精英中选择父代\n",
        "            parent2 = random.choice(elite)\n",
        "            child = crossover(parent1, parent2)\n",
        "            mutated_child = mutate(child, MUTATION_RATE)\n",
        "            next_population.append(mutated_child)\n",
        "\n",
        "        population = next_population\n",
        "\n",
        "    return best_overall_path, 1 / best_overall_fitness # 返回实际距离\n",
        "\n",
        "best_path_indices, min_distance = genetic_algorithm_tsp()\n",
        "\n",
        "best_path_cities = [city_names[i] for i in best_path_indices]\n",
        "best_path_cities.append(city_names[best_path_indices[0]]) # 回到起点\n",
        "\n",
        "print(\"\\n--- 元启发算法 (遗传算法求解 TSP) ---\")\n",
        "print(f\"城市: {city_names}\")\n",
        "print(f\"最佳路径: {' -> '.join(best_path_cities)}\")\n",
        "print(f\"最短总距离: {min_distance:.2f}\")\n",
        "\n",
        "# 可视化路径\n",
        "plt.figure(figsize=(8, 8))\n",
        "for city, coords in cities.items():\n",
        "    plt.scatter(coords[0], coords[1], s=100, label=city)\n",
        "    plt.text(coords[0] + 0.1, coords[1] + 0.1, city)\n",
        "\n",
        "# 绘制路径\n",
        "path_coords = [cities[city_names[i]] for i in best_path_indices]\n",
        "path_coords.append(cities[city_names[best_path_indices[0]]]) # 回到起点\n",
        "path_x = [p[0] for p in path_coords]\n",
        "path_y = [p[1] for p in path_coords]\n",
        "plt.plot(path_x, path_y, linestyle='--', marker='o', color='green')\n",
        "\n",
        "plt.title('TSP 最佳路径 (遗传算法)')\n",
        "plt.xlabel('X 坐标')\n",
        "plt.ylabel('Y 坐标')\n",
        "plt.grid(True)\n",
        "plt.show()"
      ],
      "metadata": {
        "colab": {
          "base_uri": "https://localhost:8080/",
          "height": 1000
        },
        "id": "40OHNwfeiKZS",
        "outputId": "a24fdcc4-a896-4315-c3ec-ad406e9fc12e"
      },
      "execution_count": null,
      "outputs": [
        {
          "output_type": "stream",
          "name": "stdout",
          "text": [
            "\n",
            "--- 元启发算法 (遗传算法求解 TSP) ---\n",
            "城市: ['A', 'B', 'C', 'D', 'E']\n",
            "最佳路径: A -> B -> E -> D -> C -> A\n",
            "最短总距离: 15.85\n"
          ]
        },
        {
          "output_type": "stream",
          "name": "stderr",
          "text": [
            "/usr/local/lib/python3.11/dist-packages/IPython/core/pylabtools.py:151: UserWarning: Glyph 22352 (\\N{CJK UNIFIED IDEOGRAPH-5750}) missing from font(s) DejaVu Sans.\n",
            "  fig.canvas.print_figure(bytes_io, **kw)\n",
            "/usr/local/lib/python3.11/dist-packages/IPython/core/pylabtools.py:151: UserWarning: Glyph 26631 (\\N{CJK UNIFIED IDEOGRAPH-6807}) missing from font(s) DejaVu Sans.\n",
            "  fig.canvas.print_figure(bytes_io, **kw)\n",
            "/usr/local/lib/python3.11/dist-packages/IPython/core/pylabtools.py:151: UserWarning: Glyph 26368 (\\N{CJK UNIFIED IDEOGRAPH-6700}) missing from font(s) DejaVu Sans.\n",
            "  fig.canvas.print_figure(bytes_io, **kw)\n",
            "/usr/local/lib/python3.11/dist-packages/IPython/core/pylabtools.py:151: UserWarning: Glyph 20339 (\\N{CJK UNIFIED IDEOGRAPH-4F73}) missing from font(s) DejaVu Sans.\n",
            "  fig.canvas.print_figure(bytes_io, **kw)\n",
            "/usr/local/lib/python3.11/dist-packages/IPython/core/pylabtools.py:151: UserWarning: Glyph 36335 (\\N{CJK UNIFIED IDEOGRAPH-8DEF}) missing from font(s) DejaVu Sans.\n",
            "  fig.canvas.print_figure(bytes_io, **kw)\n",
            "/usr/local/lib/python3.11/dist-packages/IPython/core/pylabtools.py:151: UserWarning: Glyph 24452 (\\N{CJK UNIFIED IDEOGRAPH-5F84}) missing from font(s) DejaVu Sans.\n",
            "  fig.canvas.print_figure(bytes_io, **kw)\n",
            "/usr/local/lib/python3.11/dist-packages/IPython/core/pylabtools.py:151: UserWarning: Glyph 36951 (\\N{CJK UNIFIED IDEOGRAPH-9057}) missing from font(s) DejaVu Sans.\n",
            "  fig.canvas.print_figure(bytes_io, **kw)\n",
            "/usr/local/lib/python3.11/dist-packages/IPython/core/pylabtools.py:151: UserWarning: Glyph 20256 (\\N{CJK UNIFIED IDEOGRAPH-4F20}) missing from font(s) DejaVu Sans.\n",
            "  fig.canvas.print_figure(bytes_io, **kw)\n",
            "/usr/local/lib/python3.11/dist-packages/IPython/core/pylabtools.py:151: UserWarning: Glyph 31639 (\\N{CJK UNIFIED IDEOGRAPH-7B97}) missing from font(s) DejaVu Sans.\n",
            "  fig.canvas.print_figure(bytes_io, **kw)\n",
            "/usr/local/lib/python3.11/dist-packages/IPython/core/pylabtools.py:151: UserWarning: Glyph 27861 (\\N{CJK UNIFIED IDEOGRAPH-6CD5}) missing from font(s) DejaVu Sans.\n",
            "  fig.canvas.print_figure(bytes_io, **kw)\n"
          ]
        },
        {
          "output_type": "display_data",
          "data": {
            "text/plain": [
              "<Figure size 800x800 with 1 Axes>"
            ],
            "image/png": "[encoded data removed]"
          },
          "metadata": {}
        }
      ]
    },
    {
      "cell_type": "markdown",
      "source": [
        "## 1.3 总结与联系\n",
        "| **方法**               | **核心特征**                                                                 | **适用场景**                                                                 | **优势**                                      | **局限性**                                    | **典型算法/技术**                                                                 |\n",
        "|------------------------|-----------------------------------------------------------------------------|-----------------------------------------------------------------------------|---------------------------------------------|---------------------------------------------|---------------------------------------------------------------------------------|\n",
        "| **线性规划 (LP)**       | - 目标函数与约束均为线性<br>- 决策变量连续<br>- 可行域为凸多面体                     | - 资源分配<br>- 运输问题<br>- 生产计划                                       | - 理论成熟，求解高效<br>- 全局最优解保证          | - 无法处理非线性关系或离散变量                  | - 单纯形法<br>- 内点法                                                           |\n",
        "| **整数规划 (IP/MIP)**   | - 含整数变量约束<br>- 可行域为离散点集<br>- 分支定界法依赖LP松弛                     | - 设施选址<br>- 排班调度<br>- 组合优化（如TSP）                              | - 可建模离散逻辑<br>- 精确解                   | - NP-Hard问题，计算复杂度高                    | - 分支定界法<br>- 切割平面法<br>- 启发式（如Feasibility Pump）                    |\n",
        "| **非线性规划 (NLP)**    | - 目标或约束非线性<br>- 可行域可能非凸<br>- 需处理局部最优                          | - 工程设计优化<br>- 参数估计<br>- 机器学习训练                                | - 建模能力强<br>- 凸问题时全局最优              | - 非凸问题难求解<br>- 依赖初始点                | - 梯度下降法<br>- SQP<br>- 内点法<br>- KKT条件分析                                |\n",
        "| **动态规划 (DP)**       | - 多阶段决策问题<br>- 满足最优子结构<br>- 贝尔曼方程递归求解                        | - 最短路径问题<br>- 库存管理<br>- 强化学习                                   | - 全局最优策略<br>- 避免重复计算                | - 维数灾难<br>- 需精确状态转移模型              | - 值迭代<br>- 策略迭代<br>- 逆向归纳法                                             |\n",
        "| **多目标优化 (MOO)**    | - 多个冲突目标<br>- Pareto最优解集<br>- 需权衡分析                              | - 工程设计权衡<br>- 投资组合优化<br>- 供应链多目标决策                        | - 全面反映现实需求<br>- 提供决策空间            | - 计算复杂度高<br>- 需后验决策                  | - 加权和法<br>- ε-约束法<br>- NSGA-II（进化算法）                                  |\n",
        "| **元启发式算法**        | - 黑箱优化<br>- 探索与开采平衡<br>- 不保证最优性                                | - 大规模组合优化<br>- 复杂非凸问题<br>- 实时调度                              | - 通用性强<br>- 处理复杂约束                   | - 参数敏感<br>- 解质量不可控                    | - 遗传算法 (GA)<br>- 粒子群优化 (PSO)<br>- 模拟退火 (SA)              \n",
        "\n",
        "\n",
        "#### 关键联系与选择策略：\n",
        "1. **精确 vs. 启发式**  \n",
        "   - 优先尝试LP/IP/NLP/DP（若问题规模允许）→ 保证最优性  \n",
        "   - 大规模/复杂问题 → 元启发式或混合方法（如MIP+启发式）  \n",
        "\n",
        "2. **方法融合**  \n",
        "   - **LP松弛**为IP提供下界  \n",
        "   - **NLP局部搜索**嵌入元启发式  \n",
        "   - **DP思想**设计定制启发式  \n",
        "\n",
        "3. **凸性至关重要**  \n",
        "   - 凸问题：NLP/DP可高效求解全局最优  \n",
        "   - 非凸问题：需依赖元启发式或多起点策略  \n"
      ],
      "metadata": {
        "id": "MblckW7RPOCz"
      }
    },
    {
      "cell_type": "markdown",
      "source": [
        "# 2.图论"
      ],
      "metadata": {
        "id": "O6ma-kGBY0IZ"
      }
    },
    {
      "cell_type": "markdown",
      "source": [
        "## 2.1 图的基本概念\n",
        "\n",
        "### 1. 图是什么？\n",
        "图(Graph)是由**顶点(Vertex)**和**边(Edge)**组成的数学结构：\n",
        "- **顶点**：表示实体（如城市、人物、任务）\n",
        "- **边**：表示实体间的关系（如道路、关系、依赖）\n",
        "\n",
        "```mermaid\n",
        "graph LR\n",
        "    A[顶点 A] -->|边| B[顶点 B]\n",
        "    A --> C[顶点 C]\n",
        "    B --> D[顶点 D]\n",
        "    C --> D\n",
        "```\n",
        "\n",
        "### 2. 图的分类\n",
        "| 类型 | 特点 | 示例 |\n",
        "|------|------|------|\n",
        "| **无向图** | 边没有方向 | 社交网络（好友关系） |\n",
        "| **有向图** | 边有方向 | 网页链接（A页面链接到B页面） |\n",
        "| **加权图** | 边有权重值 | 地图（道路长度） |\n",
        "| **无权图** | 边无权重 | 组织结构图 |\n",
        "\n",
        "### 3. 图的基本术语\n",
        "- **度(Degree)**：与顶点相连的边数\n",
        "- **路径(Path)**：顶点序列，其中每对相邻顶点由边连接\n",
        "- **环(Cycle)**：起点和终点相同的路径\n",
        "- **连通图(Connected Graph)**：任意两顶点间都有路径\n",
        "- **子图(Subgraph)**：原图的一部分顶点和边"
      ],
      "metadata": {
        "id": "ZIpdTpWJeW8f"
      }
    },
    {
      "cell_type": "markdown",
      "source": [
        "## 2.2 图表示法\n",
        "\n",
        "### 1. 邻接矩阵\n",
        "使用二维数组表示顶点间关系：\n",
        "```\n",
        "   A B C D\n",
        "A  0 1 1 0\n",
        "B  1 0 1 1\n",
        "C  1 1 0 0\n",
        "D  0 1 0 0\n",
        "```\n",
        "\n",
        "**特点**：\n",
        "- 快速检查顶点间是否有边（O(1)）\n",
        "- 空间复杂度高（O(V²)）\n",
        "- 适合稠密图\n",
        "\n",
        "### 2. 邻接表\n",
        "使用字典或列表存储每个顶点的邻居：\n",
        "```python\n",
        "graph = {\n",
        "    'A': ['B', 'C'],\n",
        "    'B': ['A', 'C', 'D'],\n",
        "    'C': ['A', 'B'],\n",
        "    'D': ['B']\n",
        "}\n",
        "```\n",
        "\n",
        "**特点**：\n",
        "- 空间效率高（O(V+E)）\n",
        "- 快速获取顶点的所有邻居\n",
        "- 适合稀疏图"
      ],
      "metadata": {
        "id": "OH5qnVIQeeRF"
      }
    },
    {
      "cell_type": "markdown",
      "source": [
        "## 2.3 图的遍历算法\n",
        "\n"
      ],
      "metadata": {
        "id": "1uc_evCseiFz"
      }
    },
    {
      "cell_type": "markdown",
      "source": [
        "### 2.3.1. 深度优先搜索(DFS)\n",
        "**原理**：尽可能深地探索图的分支，回溯后继续探索\n"
      ],
      "metadata": {
        "id": "QoJMD9EJfcIk"
      }
    },
    {
      "cell_type": "code",
      "source": [
        "\"\"\"\n",
        "1.1 深度优先搜索 (Depth-First Search, DFS)\n",
        "定义： DFS 是一种用于遍历或搜索树或图的算法。它从根（或任意选择的起点）开始，沿着一条路径尽可能深入，直到不能再深入为止，然后回溯到最近的未访问过的节点，继续深入。\n",
        "\n",
        "示例： 假设有一个社交网络，我们要找出从某个用户出发，他/她以及他/她的所有朋友的朋友（等等）都在哪些城市。DFS 可以帮助我们探索所有可达的用户。\n",
        "\n",
        "图结构表示： 我们使用邻接列表来表示图。\n",
        "\n",
        "\n",
        "\"\"\"\n",
        "\n",
        "graph_dfs = {\n",
        "    'A': ['B', 'C'],\n",
        "    'B': ['A', 'D', 'E'],\n",
        "    'C': ['A', 'F'],\n",
        "    'D': ['B'],\n",
        "    'E': ['B', 'F'],\n",
        "    'F': ['C', 'E']\n",
        "}\n",
        "\n",
        "def dfs(graph, start_node, visited=None):\n",
        "    if visited is None:\n",
        "        visited = set()\n",
        "\n",
        "    visited.add(start_node)\n",
        "    print(start_node, end=\" \") # 访问节点\n",
        "\n",
        "    for neighbor in graph.get(start_node, []):\n",
        "        if neighbor not in visited:\n",
        "            dfs(graph, neighbor, visited)\n",
        "\n",
        "print(\"--- 深度优先搜索 (DFS) ---\")\n",
        "print(\"图结构:\", graph_dfs)\n",
        "print(\"DFS 遍历从 'A' 开始:\")\n",
        "dfs(graph_dfs, 'A')\n",
        "print(\"\\n\")"
      ],
      "metadata": {
        "colab": {
          "base_uri": "https://localhost:8080/"
        },
        "id": "CHgUvDiqfeWD",
        "outputId": "526c9b51-7a89-4535-fee5-71971e41569e"
      },
      "execution_count": null,
      "outputs": [
        {
          "output_type": "stream",
          "name": "stdout",
          "text": [
            "--- 深度优先搜索 (DFS) ---\n",
            "图结构: {'A': ['B', 'C'], 'B': ['A', 'D', 'E'], 'C': ['A', 'F'], 'D': ['B'], 'E': ['B', 'F'], 'F': ['C', 'E']}\n",
            "DFS 遍历从 'A' 开始:\n",
            "A B D E F C \n",
            "\n"
          ]
        }
      ]
    },
    {
      "cell_type": "markdown",
      "source": [
        "**执行过程**：\n",
        "```mermaid\n",
        "graph TD\n",
        "    A((A)) --> B((B))\n",
        "    A --> C((C))\n",
        "    B --> D((D))\n",
        "    C --> E((E))\n",
        "    \n",
        "    classDef visited fill:#9f9,stroke:#333;\n",
        "    classDef current fill:#f99,stroke:#333;\n",
        "    \n",
        "    class A current;\n",
        "```\n",
        "\n",
        "**应用场景**：\n",
        "- 查找连通分量\n",
        "- 检测图中是否有环\n",
        "- 拓扑排序\n",
        "- 解决迷宫问题\n"
      ],
      "metadata": {
        "id": "b17gll0ZfgQl"
      }
    },
    {
      "cell_type": "markdown",
      "source": [
        "### 2.3.2. 广度优先搜索(BFS)\n",
        "**原理**：逐层探索，先访问所有邻居再访问邻居的邻居\n"
      ],
      "metadata": {
        "id": "83qGw4infjYW"
      }
    },
    {
      "cell_type": "code",
      "source": [
        "\"\"\"\n",
        "1.2 广度优先搜索 (Breadth-First Search, BFS)\n",
        "定义： BFS 是一种用于遍历或搜索树或图的算法。它从根（或任意选择的起点）开始，首先访问所有直接邻居，然后是这些邻居的邻居，依此类推，一层一层地向外扩展。\n",
        "\n",
        "示例： 假设我们要找出从一个城市到达另一个城市的最少航班次数（每条边代表一个航班）。BFS 可以找到最短路径（在边的数量上）。\n",
        "\"\"\"\n",
        "\n",
        "from collections import deque\n",
        "\n",
        "graph_bfs = {\n",
        "    'A': ['B', 'C'],\n",
        "    'B': ['A', 'D', 'E'],\n",
        "    'C': ['A', 'F'],\n",
        "    'D': ['B'],\n",
        "    'E': ['B', 'F'],\n",
        "    'F': ['C', 'E']\n",
        "}\n",
        "\n",
        "def bfs(graph, start_node):\n",
        "    visited = set()\n",
        "    queue = deque([start_node])\n",
        "    visited.add(start_node)\n",
        "\n",
        "    print(\"BFS 遍历从 'A' 开始:\")\n",
        "    while queue:\n",
        "        current_node = queue.popleft()\n",
        "        print(current_node, end=\" \") # 访问节点\n",
        "\n",
        "        for neighbor in graph.get(current_node, []):\n",
        "            if neighbor not in visited:\n",
        "                visited.add(neighbor)\n",
        "                queue.append(neighbor)\n",
        "\n",
        "print(\"\\n--- 广度优先搜索 (BFS) ---\")\n",
        "print(\"图结构:\", graph_bfs)\n",
        "bfs(graph_bfs, 'A')\n",
        "print(\"\\n\")"
      ],
      "metadata": {
        "id": "AgzfYmr2fsDy"
      },
      "execution_count": null,
      "outputs": []
    },
    {
      "cell_type": "markdown",
      "source": [
        "**执行过程**：\n",
        "```mermaid\n",
        "graph TD\n",
        "    A((A)) --> B((B))\n",
        "    A --> C((C))\n",
        "    B --> D((D))\n",
        "    C --> E((E))\n",
        "    \n",
        "    classDef visited fill:#9f9,stroke:#333;\n",
        "    classDef current fill:#f99,stroke:#333;\n",
        "    \n",
        "    class A current;\n",
        "```\n",
        "\n",
        "**应用场景**：\n",
        "- 查找最短路径（无权图）\n",
        "- 社交网络中查找关系链\n",
        "- 网络爬虫\n",
        "- GPS导航系统\n"
      ],
      "metadata": {
        "id": "5wNu6vuJfvdI"
      }
    },
    {
      "cell_type": "markdown",
      "source": [
        "## 2.4 最短路径算法"
      ],
      "metadata": {
        "id": "csRWOfBWfwdA"
      }
    },
    {
      "cell_type": "markdown",
      "source": [
        "### 2.4.1. Dijkstra算法\n",
        "**原理**：贪心算法，每次选择当前最短路径的顶点\n",
        "\n",
        "**关键点**：\n",
        "- 仅适用于非负权重\n",
        "- 使用优先队列提高效率\n",
        "- 时间复杂度：O(E + V log V)"
      ],
      "metadata": {
        "id": "DJhJqN3nf1I2"
      }
    },
    {
      "cell_type": "code",
      "source": [
        "\"\"\"\n",
        "定义： Dijkstra 算法用于在具有非负边权的图中查找从单个源节点到所有其他节点的最短路径。它采用贪心策略。\n",
        "\n",
        "示例： 假设你正在规划旅行路线，知道不同城市之间的驾驶时间（非负）。Dijkstra 可以找到从你当前城市到其他任何城市的最快路径。\n",
        "\n",
        "图结构表示： 使用邻接列表，其中每个邻居是一个元组 (neighbor, weight)。\n",
        "\"\"\"\n",
        "\n",
        "import heapq\n",
        "\n",
        "graph_dijkstra = {\n",
        "    'A': [('B', 1), ('C', 4)],\n",
        "    'B': [('A', 1), ('C', 2), ('D', 5)],\n",
        "    'C': [('A', 4), ('B', 2), ('D', 1)],\n",
        "    'D': [('B', 5), ('C', 1)]\n",
        "}\n",
        "\n",
        "def dijkstra(graph, start_node):\n",
        "    # distances 存储从起点到每个节点的最短距离\n",
        "    # 初始化为无穷大，起点为0\n",
        "    distances = {node: float('infinity') for node in graph}\n",
        "    distances[start_node] = 0\n",
        "\n",
        "    # priority_queue 存储 (distance, node) 对，用于选择下一个要访问的节点\n",
        "    priority_queue = [(0, start_node)] # (distance, node)\n",
        "\n",
        "    print(f\"\\n--- Dijkstra 算法 (从 '{start_node}' 开始) ---\")\n",
        "    print(\"图结构:\", graph_dijkstra)\n",
        "\n",
        "    while priority_queue:\n",
        "        current_distance, current_node = heapq.heappop(priority_queue)\n",
        "\n",
        "        # 如果当前距离比已知的距离大，说明已经找到更短的路径，跳过\n",
        "        if current_distance > distances[current_node]:\n",
        "            continue\n",
        "\n",
        "        for neighbor, weight in graph.get(current_node, []):\n",
        "            distance = current_distance + weight\n",
        "            # 如果找到更短的路径\n",
        "            if distance < distances[neighbor]:\n",
        "                distances[neighbor] = distance\n",
        "                heapq.heappush(priority_queue, (distance, neighbor))\n",
        "\n",
        "    return distances\n",
        "\n",
        "shortest_paths = dijkstra(graph_dijkstra, 'A')\n",
        "print(f\"从 'A' 到各节点的最短距离: {shortest_paths}\")"
      ],
      "metadata": {
        "id": "tURmEthif58n"
      },
      "execution_count": null,
      "outputs": []
    },
    {
      "cell_type": "markdown",
      "source": [
        "### 2.4.2. Floyd-Warshall算法\n",
        "**原理**：动态规划，逐步考虑所有顶点作为中间点\n",
        "\n",
        "**关键点**：\n",
        "- 适用于所有顶点对的最短路径\n",
        "- 支持负权重（不能有负权环）\n",
        "- 时间复杂度：O(V³)"
      ],
      "metadata": {
        "id": "11G-cyjff901"
      }
    },
    {
      "cell_type": "code",
      "source": [
        "\"\"\"\n",
        "定义： Floyd-Warshall 算法是一种多源最短路径算法，用于查找图中所有节点对之间的最短路径。它可以处理有负权边的图，但不能处理负权环。它基于动态规划。\n",
        "\n",
        "示例： 在一个包含多个城市的高速公路网络中，你需要知道任意两个城市之间的最短驾驶距离。Floyd-Warshall 算法可以一次性计算出所有这些距离。\n",
        "\n",
        "图结构表示： 使用邻接矩阵表示，其中 matrix[i][j] 是从节点 i 到节点 j 的边的权重。如果不存在边，则为无穷大。\n",
        "\"\"\"\n",
        "\n",
        "# 城市编号映射\n",
        "nodes_floyd = ['A', 'B', 'C', 'D']\n",
        "num_nodes_floyd = len(nodes_floyd)\n",
        "INF = float('infinity')\n",
        "\n",
        "# 邻接矩阵表示\n",
        "# A B C D\n",
        "# A 0 3 INF 7\n",
        "# B 8 0 2 INF\n",
        "# C 5 INF 0 1\n",
        "# D 2 INF INF 0\n",
        "adj_matrix_floyd = [\n",
        "    [0, 3, INF, 7],\n",
        "    [8, 0, 2, INF],\n",
        "    [5, INF, 0, 1],\n",
        "    [2, INF, INF, 0]\n",
        "]\n",
        "\n",
        "def floyd_warshall(graph_matrix):\n",
        "    n = len(graph_matrix)\n",
        "    # dist 矩阵初始化为邻接矩阵\n",
        "    dist = [row[:] for row in graph_matrix]\n",
        "\n",
        "    # k 是中间节点\n",
        "    for k in range(n):\n",
        "        # i 是起点\n",
        "        for i in range(n):\n",
        "            # j 是终点\n",
        "            for j in range(n):\n",
        "                # 如果通过 k 节点可以得到更短的路径\n",
        "                if dist[i][k] != INF and dist[k][j] != INF:\n",
        "                    dist[i][j] = min(dist[i][j], dist[i][k] + dist[k][j])\n",
        "    return dist\n",
        "\n",
        "print(\"\\n--- Floyd-Warshall 算法 ---\")\n",
        "print(\"图结构 (邻接矩阵):\")\n",
        "for row in adj_matrix_floyd:\n",
        "    print([round(x, 2) if x != INF else 'INF' for x in row])\n",
        "\n",
        "all_pairs_shortest_paths = floyd_warshall(adj_matrix_floyd)\n",
        "\n",
        "print(\"\\n所有节点对之间的最短路径:\")\n",
        "for i in range(num_nodes_floyd):\n",
        "    for j in range(num_nodes_floyd):\n",
        "        val = all_pairs_shortest_paths[i][j]\n",
        "        print(f\"从 {nodes_floyd[i]} 到 {nodes_floyd[j]}: {round(val, 2) if val != INF else '不可达'}\")\n",
        "    print()"
      ],
      "metadata": {
        "colab": {
          "base_uri": "https://localhost:8080/"
        },
        "id": "NFc1kMpIf9b2",
        "outputId": "febf2658-289a-461d-846b-839bd13f2cd9"
      },
      "execution_count": null,
      "outputs": [
        {
          "output_type": "stream",
          "name": "stdout",
          "text": [
            "\n",
            "--- Floyd-Warshall 算法 ---\n",
            "图结构 (邻接矩阵):\n",
            "[0, 3, 'INF', 7]\n",
            "[8, 0, 2, 'INF']\n",
            "[5, 'INF', 0, 1]\n",
            "[2, 'INF', 'INF', 0]\n",
            "\n",
            "所有节点对之间的最短路径:\n",
            "从 A 到 A: 0\n",
            "从 A 到 B: 3\n",
            "从 A 到 C: 5\n",
            "从 A 到 D: 6\n",
            "\n",
            "从 B 到 A: 5\n",
            "从 B 到 B: 0\n",
            "从 B 到 C: 2\n",
            "从 B 到 D: 3\n",
            "\n",
            "从 C 到 A: 3\n",
            "从 C 到 B: 6\n",
            "从 C 到 C: 0\n",
            "从 C 到 D: 1\n",
            "\n",
            "从 D 到 A: 2\n",
            "从 D 到 B: 5\n",
            "从 D 到 C: 7\n",
            "从 D 到 D: 0\n",
            "\n"
          ]
        }
      ]
    },
    {
      "cell_type": "markdown",
      "source": [
        "## 2.5 最小生成树算法"
      ],
      "metadata": {
        "id": "3-zTkjAEgFzP"
      }
    },
    {
      "cell_type": "markdown",
      "source": [
        "### 2.5.1. Prim算法\n",
        "**原理**：从顶点出发，逐步扩展最小权重边\n"
      ],
      "metadata": {
        "id": "lps3NioFgIz6"
      }
    },
    {
      "cell_type": "code",
      "source": [
        "\"\"\"\n",
        "定义： Prim 算法是一种贪心算法，用于在加权连通无向图中查找最小生成树。它从一个任意节点开始，逐步添加连接已构建树与未包含节点的最短边。\n",
        "\n",
        "示例： 假设你要在一个新开发区域铺设电缆，连接所有住宅区，并且目标是使用最少长度的电缆。Prim 算法可以帮你找到最优的布线方案。\n",
        "\n",
        "图结构表示： 邻接列表，{node: [(neighbor, weight), ...]}。\n",
        "\"\"\"\n",
        "\n",
        "import heapq\n",
        "\n",
        "graph_prim = {\n",
        "    'A': [('B', 2), ('C', 3)],\n",
        "    'B': [('A', 2), ('C', 4), ('D', 3)],\n",
        "    'C': [('A', 3), ('B', 4), ('D', 5)],\n",
        "    'D': [('B', 3), ('C', 5)]\n",
        "}\n",
        "\n",
        "def prim(graph, start_node):\n",
        "    mst = [] # 存储最小生成树的边\n",
        "    visited = set() # 存储已添加到MST的节点\n",
        "    # priority_queue 存储 (weight, from_node, to_node)\n",
        "    # 用于选择连接已访问节点到未访问节点的最短边\n",
        "    min_heap = [(0, None, start_node)] # (cost, from_node, to_node)\n",
        "\n",
        "    total_cost = 0\n",
        "\n",
        "    print(f\"\\n--- Prim 算法 (从 '{start_node}' 开始) ---\")\n",
        "    print(\"图结构:\", graph_prim)\n",
        "\n",
        "    while min_heap and len(visited) < len(graph):\n",
        "        cost, from_node, to_node = heapq.heappop(min_heap)\n",
        "\n",
        "        if to_node in visited:\n",
        "            continue\n",
        "\n",
        "        visited.add(to_node)\n",
        "        total_cost += cost\n",
        "        if from_node is not None: # 起始节点没有来自的边\n",
        "            mst.append((from_node, to_node, cost))\n",
        "\n",
        "        for neighbor, weight in graph.get(to_node, []):\n",
        "            if neighbor not in visited:\n",
        "                heapq.heappush(min_heap, (weight, to_node, neighbor))\n",
        "\n",
        "    return mst, total_cost\n",
        "\n",
        "prim_mst_edges, prim_total_cost = prim(graph_prim, 'A')\n",
        "print(\"最小生成树的边:\")\n",
        "for edge in prim_mst_edges:\n",
        "    print(f\"{edge[0]} --({edge[2]})-- {edge[1]}\")\n",
        "print(f\"最小总成本: {prim_total_cost}\")"
      ],
      "metadata": {
        "colab": {
          "base_uri": "https://localhost:8080/"
        },
        "id": "DfycPQQNgNpO",
        "outputId": "bb5a968c-7a32-4c96-ea25-5519955f76d3"
      },
      "execution_count": null,
      "outputs": [
        {
          "output_type": "stream",
          "name": "stdout",
          "text": [
            "\n",
            "--- Prim 算法 (从 'A' 开始) ---\n",
            "图结构: {'A': [('B', 2), ('C', 3)], 'B': [('A', 2), ('C', 4), ('D', 3)], 'C': [('A', 3), ('B', 4), ('D', 5)], 'D': [('B', 3), ('C', 5)]}\n",
            "最小生成树的边:\n",
            "A --(2)-- B\n",
            "A --(3)-- C\n",
            "B --(3)-- D\n",
            "最小总成本: 8\n"
          ]
        }
      ]
    },
    {
      "cell_type": "markdown",
      "source": [
        "### 2.5.2. Kruskal算法\n",
        "**原理**：按权重排序所有边，逐步添加不形成环的边\n"
      ],
      "metadata": {
        "id": "iRdgnIVzgSVU"
      }
    },
    {
      "cell_type": "code",
      "source": [
        "\"\"\"\n",
        "定义： Kruskal 算法也是一种贪心算法，用于在加权连通无向图中查找最小生成树。它通过按边权升序排序，然后依次添加边，只要该边不形成环，直到连接所有节点。它通常使用并查集（Disjoint Set Union, DSU）数据结构来检测环。\n",
        "\n",
        "示例： 同 Prim 算法，如果需要连接所有区域且成本最低，Kruskal 算法也能实现。它更适合处理边列表形式的图。\n",
        "\n",
        "图结构表示： 边列表，每条边是 (weight, u, v)。\n",
        "\"\"\"\n",
        "\n",
        "class DisjointSet:\n",
        "    def __init__(self, n):\n",
        "        self.parent = list(range(n))\n",
        "        self.rank = [0] * n # 用于优化 union 操作（按秩合并）\n",
        "\n",
        "    def find(self, i):\n",
        "        if self.parent[i] == i:\n",
        "            return i\n",
        "        self.parent[i] = self.find(self.parent[i]) # 路径压缩\n",
        "        return self.parent[i]\n",
        "\n",
        "    def union(self, i, j):\n",
        "        root_i = self.find(i)\n",
        "        root_j = self.find(j)\n",
        "\n",
        "        if root_i != root_j:\n",
        "            # 按秩合并\n",
        "            if self.rank[root_i] < self.rank[root_j]:\n",
        "                self.parent[root_i] = root_j\n",
        "            elif self.rank[root_i] > self.rank[root_j]:\n",
        "                self.parent[root_j] = root_i\n",
        "            else:\n",
        "                self.parent[root_j] = root_i\n",
        "                self.rank[root_i] += 1\n",
        "            return True\n",
        "        return False # 形成环\n",
        "\n",
        "# 边的列表 (weight, u, v)\n",
        "# 假设节点用数字 0, 1, 2, 3... 表示\n",
        "# A=0, B=1, C=2, D=3\n",
        "edges_kruskal = [\n",
        "    (2, 0, 1), # A-B\n",
        "    (3, 0, 2), # A-C\n",
        "    (4, 1, 2), # B-C\n",
        "    (3, 1, 3), # B-D\n",
        "    (5, 2, 3)  # C-D\n",
        "]\n",
        "# 节点映射\n",
        "node_map = {'A': 0, 'B': 1, 'C': 2, 'D': 3}\n",
        "reverse_node_map = {0: 'A', 1: 'B', 2: 'C', 3: 'D'}\n",
        "num_nodes_kruskal = len(node_map)\n",
        "\n",
        "def kruskal(edges, num_nodes):\n",
        "    mst = []\n",
        "    total_cost = 0\n",
        "    ds = DisjointSet(num_nodes)\n",
        "\n",
        "    # 按权重升序排序边\n",
        "    edges.sort()\n",
        "\n",
        "    print(\"\\n--- Kruskal 算法 ---\")\n",
        "    print(\"所有边 (权重, 源节点, 目标节点):\", edges)\n",
        "\n",
        "    for weight, u_idx, v_idx in edges:\n",
        "        # 如果添加这条边不会形成环\n",
        "        if ds.union(u_idx, v_idx):\n",
        "            mst.append((reverse_node_map[u_idx], reverse_node_map[v_idx], weight))\n",
        "            total_cost += weight\n",
        "            if len(mst) == num_nodes - 1: # 找到n-1条边即可\n",
        "                break\n",
        "    return mst, total_cost\n",
        "\n",
        "kruskal_mst_edges, kruskal_total_cost = kruskal(edges_kruskal, num_nodes_kruskal)\n",
        "print(\"最小生成树的边:\")\n",
        "for edge in kruskal_mst_edges:\n",
        "    print(f\"{edge[0]} --({edge[2]})-- {edge[1]}\")\n",
        "print(f\"最小总成本: {kruskal_total_cost}\")"
      ],
      "metadata": {
        "colab": {
          "base_uri": "https://localhost:8080/"
        },
        "id": "5a5q42sLgP5T",
        "outputId": "94eb7a20-b16c-415e-804d-8bbd269d5c00"
      },
      "execution_count": null,
      "outputs": [
        {
          "output_type": "stream",
          "name": "stdout",
          "text": [
            "\n",
            "--- Kruskal 算法 ---\n",
            "所有边 (权重, 源节点, 目标节点): [(2, 0, 1), (3, 0, 2), (3, 1, 3), (4, 1, 2), (5, 2, 3)]\n",
            "最小生成树的边:\n",
            "A --(2)-- B\n",
            "A --(3)-- C\n",
            "B --(3)-- D\n",
            "最小总成本: 8\n"
          ]
        }
      ]
    },
    {
      "cell_type": "markdown",
      "source": [
        "## 2.6 算法复杂度总结\n",
        "\n",
        "| 算法 | 时间复杂度 | 空间复杂度 | 适用场景 |\n",
        "|------|------------|------------|----------|\n",
        "| DFS/BFS | O(V+E) | O(V) | 图遍历、连通性检测 |\n",
        "| Dijkstra | O(E + V log V) | O(V) | 单源最短路径（非负权）|\n",
        "| Floyd-Warshall | O(V³) | O(V²) | 所有顶点对最短路径 |\n",
        "| Prim | O(E log V) | O(V+E) | 最小生成树 |\n",
        "| Kruskal | O(E log E) | O(V) | 最小生成树 |\n"
      ],
      "metadata": {
        "id": "JG9eu34sgVaZ"
      }
    },
    {
      "cell_type": "markdown",
      "source": [
        "## 3.实战\n",
        "\n",
        "题目：方形件组批优化问题\n",
        "\n"
      ],
      "metadata": {
        "id": "MlRLtaRdQgym"
      }
    },
    {
      "cell_type": "markdown",
      "source": [
        "### 3.1 问题一思路\n",
        "\n",
        "需要最大化使用率，即：应该如何规划切割方法，使得最终使用的原片最少。\n",
        "\n",
        "例如数据集A1，有700多个产品项，如何组合能够消耗的板材最少。\n",
        "\n",
        "**排布规则：**\n",
        "- 先在左下角放入一个产品项，然后观察下一个产品项的长/宽是否与其一致，一致的放上面，不一致的放左边。\n",
        "- 每一列即一个栈，直到把长排满，形成一个条带。\n",
        "- 进入下一个条带，重复步骤，进入下一个条带直到把宽排满。\n",
        "\n",
        "**优化思路：**\n",
        "\n",
        "- 对产品项进行编码1-700，一共有700!种编码方法，每种方法都按照规则进行排布。\n",
        "- 使用遗传算法，初始化种群，随机生成一些编码，得到fitness（消耗板材数），筛选出其中表现好的编码顺序（父辈），使其交叉 变异，得到新的编码顺序（子代）。重复该步骤，训练找到最佳编码顺序。\n",
        "\n"
      ],
      "metadata": {
        "id": "hUsIFPDCsBYO"
      }
    },
    {
      "cell_type": "markdown",
      "source": [
        "### 3.2 优化的问题一思路\n",
        "\n",
        "对700多个产品项进行不重复的编码并且寻找最佳编码顺序，需要700!次迭代计算，计算复杂度太高。模型跑不出来，需要针对该问题进行更深入的优化来降低计算复杂度。\n",
        "\n",
        "**更新的排布规则：**\n",
        "\n",
        "- 将大小完全相同的产品项，或者长款一致的产品项（相似）进行分组。\n",
        "- 左下角放入第一个产品项后，先在上方叠加完全相同的产品项直至无法叠加。此时形成一个栈\n",
        "- 紧贴第一个栈，继续放入相同/相似产品项。重复步骤形成第二个栈\n",
        "- 直至原片长度不够，形成第一个条带。在条带上方累加直至形成第二个条带...\n",
        "\n",
        "**更新的遗传算法：**\n",
        "\n",
        "- 将栈进行编码，大约100多个栈。与初步遗传思路一致\n",
        "\n",
        "**剩余优化空间：**\n",
        "\n",
        "1. 相同和相似的产品项应该如何组合\n",
        "2. 产品项可以旋转，例如1号的长=2号的宽，这部分是否需要拎出来单独考虑。\n",
        "3. 精确的优化算法可以在精度上做更多的控制，但效率不高，是否有其他降低效率的方法。"
      ],
      "metadata": {
        "id": "UEUffjRCwAmj"
      }
    },
    {
      "cell_type": "markdown",
      "source": [
        "### 3.3问题二思路\n"
      ],
      "metadata": {
        "id": "czXzgvmy0QY_"
      }
    }
  ]
}