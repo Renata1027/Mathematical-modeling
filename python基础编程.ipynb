{
  "nbformat": 4,
  "nbformat_minor": 0,
  "metadata": {
    "colab": {
      "provenance": [],
      "authorship_tag": "ABX9TyPxC269B7wdJbARb7Qg85pX",
      "include_colab_link": true
    },
    "kernelspec": {
      "name": "python3",
      "display_name": "Python 3"
    },
    "language_info": {
      "name": "python"
    }
  },
  "cells": [
    {
      "cell_type": "markdown",
      "metadata": {
        "id": "view-in-github",
        "colab_type": "text"
      },
      "source": [
        "<a href=\"https://colab.research.google.com/github/Renata1027/python-/blob/main/python%E5%9F%BA%E7%A1%80%E7%BC%96%E7%A8%8B.ipynb\" target=\"_parent\"><img src=\"https://colab.research.google.com/assets/colab-badge.svg\" alt=\"Open In Colab\"/></a>"
      ]
    },
    {
      "cell_type": "markdown",
      "source": [
        "## 1.变量\n",
        "变量（variables）是python中的对象，可以存储数值或字符串。"
      ],
      "metadata": {
        "id": "1JEPvkE2gqfq"
      }
    },
    {
      "cell_type": "code",
      "source": [
        "# 数值示例\n",
        "x = 5 # 无''\n",
        "print (x)"
      ],
      "metadata": {
        "colab": {
          "base_uri": "https://localhost:8080/"
        },
        "id": "MpNNehd0guFU",
        "outputId": "42712eec-52f5-4439-ade1-e1a0b72d1019"
      },
      "execution_count": null,
      "outputs": [
        {
          "output_type": "stream",
          "name": "stdout",
          "text": [
            "5\n"
          ]
        }
      ]
    },
    {
      "cell_type": "code",
      "source": [
        "# 字符串示例\n",
        "x = \"5\"\n",
        "print (x)"
      ],
      "metadata": {
        "id": "MfXnrY7dg4I1",
        "colab": {
          "base_uri": "https://localhost:8080/"
        },
        "outputId": "2bf2cba0-5c62-463a-87d6-ec00be7c7b96"
      },
      "execution_count": null,
      "outputs": [
        {
          "output_type": "stream",
          "name": "stdout",
          "text": [
            "hello\n"
          ]
        }
      ]
    },
    {
      "cell_type": "code",
      "source": [
        "# 变量可以相互使用\n",
        "a = 1\n",
        "b = 2\n",
        "c = a + b\n",
        "print (c)\n",
        "\n",
        "d = '1'\n",
        "f ='2'\n",
        "e = d+f\n",
        "print(e)"
      ],
      "metadata": {
        "id": "UomxfD96g4GC",
        "colab": {
          "base_uri": "https://localhost:8080/"
        },
        "outputId": "d547953d-6717-48aa-8dd6-a6dbb7b80a3a"
      },
      "execution_count": null,
      "outputs": [
        {
          "output_type": "stream",
          "name": "stdout",
          "text": [
            "3\n",
            "12\n"
          ]
        }
      ]
    },
    {
      "cell_type": "markdown",
      "source": [
        "变量可以有很多不同的类型。 即使在数值变量中，也可以使用整数（int），浮点数（float）等。所有基于字符串的变量都是string（str）类型。我们可以通过打印它的类型来查看变量的类型。"
      ],
      "metadata": {
        "id": "YzBnyPPKhACZ"
      }
    },
    {
      "cell_type": "code",
      "source": [
        "# int 变量\n",
        "x = 5\n",
        "print (x)\n",
        "print (type(x))e(x)\n",
        "\n",
        "# float 变量\n",
        "x = 5.0\n",
        "print (x)\n",
        "print (typ)\n",
        "\n",
        "# text 变量（即为str）\n",
        "x = \"5\"\n",
        "print (x)\n",
        "print (type(x))\n",
        "\n",
        "# boolean 变量\n",
        "x = True\n",
        "print (x)\n",
        "print (type(x))"
      ],
      "metadata": {
        "id": "EApjEbFsg4DT",
        "colab": {
          "base_uri": "https://localhost:8080/"
        },
        "outputId": "e94a5842-0118-456f-ae04-1a2dbcf7b5b7"
      },
      "execution_count": null,
      "outputs": [
        {
          "output_type": "stream",
          "name": "stdout",
          "text": [
            "5\n",
            "<class 'int'>\n",
            "5.0\n",
            "<class 'float'>\n",
            "5\n",
            "<class 'str'>\n",
            "True\n",
            "<class 'bool'>\n"
          ]
        }
      ]
    },
    {
      "cell_type": "markdown",
      "source": [
        "当你想使用数值运算时，需要知道变量类型，因为它们需要类型兼容。\n",
        "\n"
      ],
      "metadata": {
        "id": "uqyhBghvhEmE"
      }
    },
    {
      "cell_type": "code",
      "source": [
        "# int 变量\n",
        "a = 5\n",
        "b = 3\n",
        "print (a + b)\n",
        "\n",
        "# string 变量\n",
        "a = \"5\"\n",
        "b = \"3\"\n",
        "print (a + b)"
      ],
      "metadata": {
        "colab": {
          "base_uri": "https://localhost:8080/"
        },
        "id": "5jstx8I8g4Ah",
        "outputId": "df8d82cb-4378-4f4e-a6a1-542d2506a869"
      },
      "execution_count": null,
      "outputs": [
        {
          "output_type": "stream",
          "name": "stdout",
          "text": [
            "8\n",
            "53\n"
          ]
        }
      ]
    },
    {
      "cell_type": "markdown",
      "source": [
        "## 2.列表\n",
        "列表（lists）是python中的对象，可以包含有序的数值序列和字符串。\n",
        "\n",
        "回忆matlab的元胞数组，也是可以包含不同的数据类型。"
      ],
      "metadata": {
        "id": "HUbvbkvehKFA"
      }
    },
    {
      "cell_type": "code",
      "source": [
        "# 创建列表\n",
        "list_x = [3, \"hello\", 1]\n",
        "print (list_x)"
      ],
      "metadata": {
        "colab": {
          "base_uri": "https://localhost:8080/"
        },
        "id": "5lzfj1Sng39h",
        "outputId": "8fdd0ada-ccb8-45e0-cc2b-88f230436918"
      },
      "execution_count": null,
      "outputs": [
        {
          "output_type": "stream",
          "name": "stdout",
          "text": [
            "[3, 'hello', 1]\n"
          ]
        }
      ]
    },
    {
      "cell_type": "code",
      "source": [
        "# 向列表中添加元素\n",
        "list_x.append(7) # append是追加，在list的末尾追加单个元素，如果这个元素是list就将List作为整体追究\n",
        "list_x.insert(1,\"c\")# insert是添加，在索引位置后添加单个元素;索引下标从0开始，最后一个是-1\n",
        "list_x.extend([2,\"e\"])# extend是延长，用来连接list\n",
        "# 总结：append把元素作为整体插入，insert在固定位置插入，entend用于在List中多项分别插入\n",
        "print (list_x)"
      ],
      "metadata": {
        "colab": {
          "base_uri": "https://localhost:8080/"
        },
        "id": "-imbNc2AmZw5",
        "outputId": "b90ba4ed-be8c-4330-b177-5ecb3f687c16"
      },
      "execution_count": null,
      "outputs": [
        {
          "output_type": "stream",
          "name": "stdout",
          "text": [
            "[3, 'c', 'hello', 1, 7, 2, 'e']\n"
          ]
        }
      ]
    },
    {
      "cell_type": "code",
      "source": [
        "# 访问列表中特定位置的元素\n",
        "print (\"list_x[0]: \", list_x[0])\n",
        "print (\"list_x[1]: \", list_x[1])\n",
        "print (\"list_x[2]: \", list_x[2])\n",
        "print (\"list_x[-1]: \", list_x[-1]) # 索引值为-1时，表示访问最后的元素\n",
        "print (\"list_x[-2]: \", list_x[-2]) # 索引值为-2时，表示访问倒数第二个元素"
      ],
      "metadata": {
        "colab": {
          "base_uri": "https://localhost:8080/"
        },
        "id": "_RGaXY1gg33s",
        "outputId": "9222ce54-ec11-43c8-ffdc-7a8049287b51"
      },
      "execution_count": null,
      "outputs": [
        {
          "output_type": "stream",
          "name": "stdout",
          "text": [
            "list_x[0]:  3\n",
            "list_x[1]:  c\n",
            "list_x[2]:  hello\n",
            "list_x[-1]:  e\n",
            "list_x[-2]:  2\n"
          ]
        }
      ]
    },
    {
      "cell_type": "code",
      "source": [
        "# 切片\n",
        "print (\"list_x[:]: \", list_x[:])\n",
        "print (\"list_x[2:]: \", list_x[2:])\n",
        "print (\"list_x[1:3]: \", list_x[1:3])\n",
        "print (\"list_x[:-1]: \", list_x[:-1])"
      ],
      "metadata": {
        "colab": {
          "base_uri": "https://localhost:8080/"
        },
        "id": "YI4EWXYUg3x8",
        "outputId": "f9dfccdf-b9c3-4b96-af00-a801dc61724c"
      },
      "execution_count": null,
      "outputs": [
        {
          "output_type": "stream",
          "name": "stdout",
          "text": [
            "list_x[:]:  [3, 'c', 'hello', 1, 7, 2, 'e']\n",
            "list_x[2:]:  ['hello', 1, 7, 2, 'e']\n",
            "list_x[1:3]:  ['c', 'hello']\n",
            "list_x[:-1]:  [3, 'c', 'hello', 1, 7, 2]\n"
          ]
        }
      ]
    },
    {
      "cell_type": "code",
      "source": [
        "# 列表的长度\n",
        "len(list_x)"
      ],
      "metadata": {
        "colab": {
          "base_uri": "https://localhost:8080/"
        },
        "id": "pDhqekbzg3u8",
        "outputId": "f05960cf-6b5f-42cb-9b93-89d7ac487ff8"
      },
      "execution_count": null,
      "outputs": [
        {
          "output_type": "execute_result",
          "data": {
            "text/plain": [
              "7"
            ]
          },
          "metadata": {},
          "execution_count": 6
        }
      ]
    },
    {
      "cell_type": "code",
      "source": [
        "# 替换列表中的元素\n",
        "list_x[1] = \"hi\"\n",
        "print (list_x)"
      ],
      "metadata": {
        "colab": {
          "base_uri": "https://localhost:8080/"
        },
        "id": "QTOz-1tGg3r8",
        "outputId": "c881d171-4d4e-4f9e-99ea-b7f6c93c85e7"
      },
      "execution_count": null,
      "outputs": [
        {
          "output_type": "stream",
          "name": "stdout",
          "text": [
            "[3, 'hi', 'hello', 1, 7, 2, 'e']\n"
          ]
        }
      ]
    },
    {
      "cell_type": "code",
      "source": [
        "# 组合列表\n",
        "list_y = [2.4, \"world\"] # = extend\n",
        "list_z = list_x + list_y\n",
        "print (list_z)"
      ],
      "metadata": {
        "id": "aA6Bzw46g3lw",
        "colab": {
          "base_uri": "https://localhost:8080/"
        },
        "outputId": "bcae8907-bb4e-4a00-f7c8-930c9ca74857"
      },
      "execution_count": null,
      "outputs": [
        {
          "output_type": "stream",
          "name": "stdout",
          "text": [
            "[3, 'hi', 'c', 'hello', 1, 7, 2, 'e', 7, 2, 'e', 2.4, 'world']\n"
          ]
        }
      ]
    },
    {
      "cell_type": "markdown",
      "source": [
        "## 3.元组\n",
        "元组（tuples）也是python中可以保存数据但是不能替换值的对象（因此，元组称为不可变，而列表称为可变）。"
      ],
      "metadata": {
        "id": "wsBStHs5hdZU"
      }
    },
    {
      "cell_type": "code",
      "source": [
        "# 创建元组\n",
        "tuple_x = (3.0, \"hello\") # = 赋值；==相等\n",
        "print (tuple_x)"
      ],
      "metadata": {
        "id": "aLnEaxfAg3YX",
        "colab": {
          "base_uri": "https://localhost:8080/"
        },
        "outputId": "66c533ee-13b9-4b26-cd00-a270c47e11a8"
      },
      "execution_count": null,
      "outputs": [
        {
          "output_type": "stream",
          "name": "stdout",
          "text": [
            "(3.0, 'hello')\n"
          ]
        }
      ]
    },
    {
      "cell_type": "code",
      "source": [
        "# 添加元素到元组(注意逗号)\n",
        "tuple_x = tuple_x + (5.6,)\n",
        "print (tuple_x)"
      ],
      "metadata": {
        "id": "QK3rCfclhhWv",
        "colab": {
          "base_uri": "https://localhost:8080/"
        },
        "outputId": "232e3b69-58aa-4484-db23-adef864bff5f"
      },
      "execution_count": null,
      "outputs": [
        {
          "output_type": "stream",
          "name": "stdout",
          "text": [
            "(3.0, 'hello', 5.6, 5, 6)\n"
          ]
        }
      ]
    },
    {
      "cell_type": "code",
      "source": [
        "# 试图改变元组的值（事实上不可行）\n",
        "tuple_x[1] = \"world\""
      ],
      "metadata": {
        "id": "XJt0qKhDhhUD",
        "colab": {
          "base_uri": "https://localhost:8080/",
          "height": 158
        },
        "outputId": "0808f542-4929-4108-cfd1-fa3de9140d23"
      },
      "execution_count": null,
      "outputs": [
        {
          "output_type": "error",
          "ename": "TypeError",
          "evalue": "'tuple' object does not support item assignment",
          "traceback": [
            "\u001b[0;31m---------------------------------------------------------------------------\u001b[0m",
            "\u001b[0;31mTypeError\u001b[0m                                 Traceback (most recent call last)",
            "\u001b[0;32m<ipython-input-51-8b0288f3cd15>\u001b[0m in \u001b[0;36m<cell line: 0>\u001b[0;34m()\u001b[0m\n\u001b[1;32m      1\u001b[0m \u001b[0;31m# 试图改变元组的值（事实上不可行）\u001b[0m\u001b[0;34m\u001b[0m\u001b[0;34m\u001b[0m\u001b[0m\n\u001b[0;32m----> 2\u001b[0;31m \u001b[0mtuple_x\u001b[0m\u001b[0;34m[\u001b[0m\u001b[0;36m1\u001b[0m\u001b[0;34m]\u001b[0m \u001b[0;34m=\u001b[0m \u001b[0;34m\"world\"\u001b[0m\u001b[0;34m\u001b[0m\u001b[0;34m\u001b[0m\u001b[0m\n\u001b[0m",
            "\u001b[0;31mTypeError\u001b[0m: 'tuple' object does not support item assignment"
          ]
        }
      ]
    },
    {
      "cell_type": "markdown",
      "source": [
        "## 4.字典\n",
        "字典（dictionaries） 是包含键值对（key-value）的python对象。在下面的字典示例中，键是“name”和“eye_color”变量。它们各自都有与之相关的值。 **字典不能有两个相同的键。**"
      ],
      "metadata": {
        "id": "Q2ebPTyLhn63"
      }
    },
    {
      "cell_type": "code",
      "source": [
        "# 创建字典\n",
        "guoling = {\"name\": \"guoling\",\n",
        "        \"eye_color\": \"brown\"}\n",
        "print (guoling)\n",
        "print (guoling[\"name\"])\n",
        "print (guoling[\"eye_color\"])"
      ],
      "metadata": {
        "id": "j3EF2TnMhhRj",
        "colab": {
          "base_uri": "https://localhost:8080/"
        },
        "outputId": "1a17c71a-a6a0-4649-e315-89cba1e5e400",
        "collapsed": true
      },
      "execution_count": null,
      "outputs": [
        {
          "output_type": "stream",
          "name": "stdout",
          "text": [
            "{'name': 'guoling', 'eye_color': 'brown'}\n",
            "guoling\n",
            "brown\n"
          ]
        }
      ]
    },
    {
      "cell_type": "code",
      "source": [
        "# 改变键的值\n",
        "guoling[\"eye_color\"] = \"green\" #\n",
        "print (guoling)"
      ],
      "metadata": {
        "id": "vRhgLMl4hhOt",
        "colab": {
          "base_uri": "https://localhost:8080/"
        },
        "outputId": "d4d6056f-e7c7-458f-894c-96de6ec00e79",
        "collapsed": true
      },
      "execution_count": null,
      "outputs": [
        {
          "output_type": "stream",
          "name": "stdout",
          "text": [
            "{'name': 'guoling', 'eye_color': 'green'}\n"
          ]
        }
      ]
    },
    {
      "cell_type": "code",
      "source": [
        "# 添加新的键值对\n",
        "guoling[\"age\"] = 20\n",
        "print (guoling)"
      ],
      "metadata": {
        "id": "VOG3vaoChhMF",
        "colab": {
          "base_uri": "https://localhost:8080/"
        },
        "outputId": "4cde96cd-e863-47be-9aa0-278cafdfcaf5"
      },
      "execution_count": null,
      "outputs": [
        {
          "output_type": "stream",
          "name": "stdout",
          "text": [
            "{'name': 'guoling', 'eye_color': 'brown', 'age': 20}\n"
          ]
        }
      ]
    },
    {
      "cell_type": "code",
      "source": [
        "# 字典的长度\n",
        "print (len(guoling))"
      ],
      "metadata": {
        "id": "QXc6oOaThhJV",
        "colab": {
          "base_uri": "https://localhost:8080/"
        },
        "outputId": "ede320bb-f6aa-42e7-ab69-2439e60e15c6"
      },
      "execution_count": null,
      "outputs": [
        {
          "output_type": "stream",
          "name": "stdout",
          "text": [
            "3\n"
          ]
        }
      ]
    },
    {
      "cell_type": "markdown",
      "source": [
        "## 5.If 语句\n",
        "您可以使用if语句有条件地执行某些操作。"
      ],
      "metadata": {
        "id": "GfFsv95RhxTe"
      }
    },
    {
      "cell_type": "code",
      "source": [
        "# If 语句\n",
        "x = 4\n",
        "if x < 1:\n",
        "    score = \"low\"\n",
        "elif x <= 4: # x >=1 且x <=4; 1 <= x <=4\n",
        "    score = \"medium\"\n",
        "else: # x>4\n",
        "    score = \"high\"\n",
        "print (score)"
      ],
      "metadata": {
        "id": "h6Vl2uP7hhGm",
        "colab": {
          "base_uri": "https://localhost:8080/"
        },
        "outputId": "26f04c4c-5058-44cb-f1cd-cfe7dbcfd665"
      },
      "execution_count": null,
      "outputs": [
        {
          "output_type": "stream",
          "name": "stdout",
          "text": [
            "medium\n"
          ]
        }
      ]
    },
    {
      "cell_type": "code",
      "source": [
        "# 带有布尔值的if语句\n",
        "x = False\n",
        "if x: # if x = True\n",
        "    print (\"it worked\")\n",
        "print('break')"
      ],
      "metadata": {
        "id": "ML30RjMZhg-5",
        "colab": {
          "base_uri": "https://localhost:8080/"
        },
        "outputId": "e8f8313d-9adb-4843-a337-ce4aad67ab58"
      },
      "execution_count": null,
      "outputs": [
        {
          "output_type": "stream",
          "name": "stdout",
          "text": [
            "break\n"
          ]
        }
      ]
    },
    {
      "cell_type": "markdown",
      "source": [
        "## 6.循环语句\n",
        "您可以在python中使用for或while循环来重复执行某些操作，直到满足条件为止。\n",
        "区分matlab索引"
      ],
      "metadata": {
        "id": "VDMuTrAth6-V"
      }
    },
    {
      "cell_type": "code",
      "source": [
        "# for循环，到上界结束\n",
        "x = 1\n",
        "for i in range(3): # 从 i=0 到 i=2\n",
        "    x += 1 # 等价于 x = x + 1\n",
        "    print (\"i={0}, x={1}\".format(i, x)) # 打印多个变量"
      ],
      "metadata": {
        "id": "Fu8gikQ-h5J5",
        "colab": {
          "base_uri": "https://localhost:8080/"
        },
        "outputId": "04555890-bac1-4517-fe3f-cd89e1fc0d9b"
      },
      "execution_count": null,
      "outputs": [
        {
          "output_type": "stream",
          "name": "stdout",
          "text": [
            "i=0, x=2\n",
            "i=1, x=3\n",
            "i=2, x=4\n"
          ]
        }
      ]
    },
    {
      "cell_type": "code",
      "source": [
        "# 循环遍历列表中的元素\n",
        "x = 1\n",
        "for i in [0, 1, 2]: # in(1:2:100) 1 3 5 7 9....\n",
        "    x += 1\n",
        "    print (\"i={0}, x={1}\".format(i, x))"
      ],
      "metadata": {
        "id": "NSR9luOJh5HI",
        "colab": {
          "base_uri": "https://localhost:8080/"
        },
        "outputId": "3a771ebd-d412-4e1d-e1ed-e6eec0bc3ea7"
      },
      "execution_count": null,
      "outputs": [
        {
          "output_type": "stream",
          "name": "stdout",
          "text": [
            "i=0, x=2\n",
            "i=1, x=3\n",
            "i=2, x=4\n"
          ]
        }
      ]
    },
    {
      "cell_type": "code",
      "source": [
        "# while循环,到不满足条件截止\n",
        "x = 3\n",
        "while x > 0:\n",
        "    x -= 1 # 等价于 x = x - 1\n",
        "    print (x)"
      ],
      "metadata": {
        "id": "-M1ucylch4xm",
        "colab": {
          "base_uri": "https://localhost:8080/"
        },
        "outputId": "71d6d86e-b519-4b6e-a92b-27ca28382609"
      },
      "execution_count": null,
      "outputs": [
        {
          "output_type": "stream",
          "name": "stdout",
          "text": [
            "2\n",
            "1\n",
            "0\n"
          ]
        }
      ]
    },
    {
      "cell_type": "markdown",
      "source": [
        "### 题目1-4\n",
        "\n",
        "**题目1：**分别用for循环和while循环实现1加到100\n",
        "\n",
        "**题目2：**实现九九乘法表\n",
        "\n",
        "**题目3：** * *计算出1000以内，所有不能被7整除的整数和*\n",
        "\n",
        "补：% 余数；!= 不等于\n",
        "\n",
        "**题目4：** * *鸡兔同笼题，鸡兔共有50个头，160只脚，问鸡兔各有*多少只"
      ],
      "metadata": {
        "id": "yvIoYFRBpkzK"
      }
    },
    {
      "cell_type": "markdown",
      "source": [
        "## 7.函数\n",
        "函数（functions）是模块化可重用代码块的一种方法。"
      ],
      "metadata": {
        "id": "6gs9DaqniFQ9"
      }
    },
    {
      "cell_type": "code",
      "source": [
        "# 创建函数\n",
        "def add_two(x): #传参\n",
        "    x += 2\n",
        "    return x\n",
        "\n",
        "# 调用函数\n",
        "score = 0\n",
        "score = add_two(x=score) # 赋值\n",
        "print (score)\n",
        "# 循环调用自身，就是递归算法的原理"
      ],
      "metadata": {
        "id": "zmH97OpOiDgq",
        "colab": {
          "base_uri": "https://localhost:8080/"
        },
        "outputId": "5a4c4002-0d77-440f-fdc5-0cae258b849d"
      },
      "execution_count": null,
      "outputs": [
        {
          "output_type": "stream",
          "name": "stdout",
          "text": [
            "2\n"
          ]
        }
      ]
    },
    {
      "cell_type": "markdown",
      "source": [
        "### **题目5：**\n",
        "\n",
        "斐波那契数 （通常用 F(n) 表示）形成的序列称为 斐波那契数列 。该数列由 0 和 1 开始，后面的每一项数字都是前面两项数字的和。指的是这样一个数列：0、1、1、2、3、5、8、13、21、34、……。给定n的情况下，需要计算F(n)\n",
        "\n",
        "这是一道leetcode算法题，题目链接如下：https://leetcode.cn/problems/fei-bo-na-qi-shu-lie-lcof/\n",
        "\n",
        "可直接在leetcode中提交答案"
      ],
      "metadata": {
        "id": "Gl7P5smtrmsl"
      }
    },
    {
      "cell_type": "code",
      "source": [
        "# 具有多输入的函数\n",
        "def join_name(first_name, last_name): # 传参\n",
        "    joined_name = first_name + \" \" + last_name\n",
        "    return joined_name\n",
        "\n",
        "# 调用函数\n",
        "name1 = \"zongyang\"\n",
        "name2 = \"li\"\n",
        "a = join_name(name1, name2) # 赋值\n",
        "print (a)"
      ],
      "metadata": {
        "id": "UNKdF20gh4uq",
        "colab": {
          "base_uri": "https://localhost:8080/"
        },
        "outputId": "092f03f0-1e33-40f2-fa67-636565ff60d1"
      },
      "execution_count": null,
      "outputs": [
        {
          "output_type": "stream",
          "name": "stdout",
          "text": [
            "zongyang li\n"
          ]
        }
      ]
    },
    {
      "cell_type": "markdown",
      "source": [
        "## 8.类\n",
        "1. 面向对象编程（OOP）\n",
        "\n",
        "*   类（Class）：封装数据和方法的逻辑单元。**（设计图：设计玩具狗）**\n",
        "*   对象（Object）：类的实例，具有类定义的属性和方法。**（产品：做出玩具狗）**\n",
        "*   封装：将数据（属性）和操作数据的方法绑定在一起，通过对象访问。\n",
        "2. 类的属性与方法\n",
        "\n",
        "* 属性**（特征：狗的品种 颜色 名字）** 方法**（行为：说话 改名）**\n",
        "* 实例属性：每个对象独有的数据（如self.name）。\n",
        "* 实例方法：操作实例属性的函数（如change_name）。\n",
        "* 特殊方法：以双下划线开头和结尾的方法（如__init__、__str__），用于实现特定的 Python 语法行为。\n",
        "3. 方法参数中的self\n",
        "\n",
        "* 在类的方法中，self必须作为第一个参数，它指向调用该方法的对象本身。通过\n",
        "4. 字符串格式化\n",
        "\n",
        "* 字符串格式化是指将变量或表达式的值插入到字符串中的特定位置，从而创建动态生成的字符串。format()方法：用于将变量插入到字符串中。\n"
      ],
      "metadata": {
        "id": "rxJLJZkNiOlQ"
      }
    },
    {
      "cell_type": "code",
      "source": [
        "name = \"Alice\"\n",
        "age = 30\n",
        "\n",
        "# 不使用格式化，手动拼接\n",
        "message = \"My name is \" + name + \" and I am \" + str(age) + \" years old.\"\n",
        "print(message)  # 输出：My name is Alice and I am 30 years old.\n",
        "# %格式化，旧方法 在早期python版本中使用\n",
        "name = \"Bob\"\n",
        "age = 25\n",
        "\n",
        "# 使用 % 格式化\n",
        "message = \"My name is %s and I am %d years old.\" % (name, age)\n",
        "print(message)  # 输出：My name is Bob and I am 25 years old.\n",
        "# %s：表示字符串占位符\n",
        "# %d：表示整数占位符\n",
        "# %f：表示浮点数占位符\n",
        "\n",
        "# python2.6之后的版本引入了format方法\n",
        "name = \"Charlie\"\n",
        "age = 35\n",
        "\n",
        "# 使用 format() 方法\n",
        "message = \"My name is {} and I am {} years old.\".format(name, age)\n",
        "print(message)  # 输出：My name is Charlie and I am 35 years old.\n",
        "\n",
        "# 带位置参数的格式化\n",
        "message = \"My name is {0} and I am {1} years old. {0} is my name.\".format(name, age)\n",
        "print(message)  # 输出：My name is Charlie and I am 35 years old. Charlie is my name.\n",
        "\n",
        "# 带关键字参数的格式化\n",
        "message = \"My name is {name} and I am {age} years old.\".format(name=name, age=age)\n",
        "print(message)  # 输出：My name is Charlie and I am 35 years old.\n",
        "\n",
        "# python 3.6之后引入的最新方法，使用f前缀和{表达式}：\n",
        "name = \"David\"\n",
        "age = 40\n",
        "\n",
        "# 使用 f-string\n",
        "message = f\"My name is {name} and I am {age} years old.\"\n",
        "print(message)  # 输出：My name is David and I am 40 years old.\n",
        "\n",
        "# 直接在花括号内使用表达式\n",
        "message = f\"Next year, I will be {age + 1} years old.\"\n",
        "print(message)  # 输出：Next year, I will be 41 years old."
      ],
      "metadata": {
        "id": "2xBpngznz74_"
      },
      "execution_count": null,
      "outputs": []
    },
    {
      "cell_type": "markdown",
      "source": [
        "5. 具体定义\n",
        "* **类（classes）：**是面向对象的Python编程的基础部分。创建对象的**蓝图**，定义了对象的属性和方法。这里的Pets类表示宠物的通用模板。\n",
        "\n",
        "* **object：**在 Python 中，所有类都继承自object（Python 3 中可省略，但建议显式写出）。\n",
        "\n",
        "* **__init__方法：**是类的构造函数，在创建对象时自动调用，用于初始化对象的属性。\n",
        "\n",
        "* **self：**代表类的实例（即对象本身），必须作为方法的第一个参数。通过self.属性名可以绑定对象的属性。\n",
        "\n",
        "* **__str__方法：**是一个特殊方法，（python内置方法）用于定义对象被打印时的字符串表示。当你调用print(my_dog)时，实际上调用的是my_dog.__str__()。\n",
        "\n",
        "* **change_name：**实例方法，（具体方法，自己设置的方法）类中定义的函数，第一个参数必须是self，用于操作对象的属性。这里的change_name方法用于修改宠物的名字。"
      ],
      "metadata": {
        "id": "7to_fY_Yz2nY"
      }
    },
    {
      "cell_type": "code",
      "source": [
        "# 创建函数,图纸\n",
        "class Pets(object):\n",
        "\n",
        "    # 类初始化\n",
        "    def __init__(self, species, color, name):\n",
        "        self.species = species\n",
        "        self.color = color\n",
        "        self.name = name\n",
        "\n",
        "    # 用于打印\n",
        "    def __str__(self, new_name):\n",
        "        self.name = new_name__str__(self):\n",
        "        return \"{0} {1} named {2}.\".format(self.color, self.species, self.name)\n",
        "\n",
        "    # 实例函数\n",
        "    def change_name"
      ],
      "metadata": {
        "id": "MiYr1H3ih4oz"
      },
      "execution_count": null,
      "outputs": []
    },
    {
      "cell_type": "code",
      "source": [
        "# 创建类的实例：对象\n",
        "my_dog = Pets(species=\"dog\", color=\"orange\", name=\"wangcai\",)\n",
        "print (my_dog)\n",
        "print (my_dog.name)"
      ],
      "metadata": {
        "id": "wL99IfMLh4jk",
        "colab": {
          "base_uri": "https://localhost:8080/"
        },
        "outputId": "dd13a628-3aba-4a39-8471-56eb38561d06"
      },
      "execution_count": null,
      "outputs": [
        {
          "output_type": "stream",
          "name": "stdout",
          "text": [
            "orange dog named wangcai.\n",
            "wangcai\n"
          ]
        }
      ]
    },
    {
      "cell_type": "code",
      "source": [
        "# 调用类的函数\n",
        "my_dog.change_name(new_name=\"Charlie\")\n",
        "print (my_dog)\n",
        "print (my_dog.name)"
      ],
      "metadata": {
        "id": "RUmX0znOh4gW",
        "colab": {
          "base_uri": "https://localhost:8080/"
        },
        "outputId": "2143f38f-94f0-487e-9808-224028f2b5bd"
      },
      "execution_count": null,
      "outputs": [
        {
          "output_type": "stream",
          "name": "stdout",
          "text": [
            "orange dog named Charlie.\n",
            "Charlie\n"
          ]
        }
      ]
    },
    {
      "cell_type": "markdown",
      "source": [
        "### **题目6：**\n",
        "\n",
        "* *高级订单自动邮件/短信机器人*\n",
        "\n",
        "假设计你是要给自动给客户发邮件的运营\n",
        "\n",
        "orders =\n",
        "\n",
        "    {\"buyer_name\": \"Pony\",\"product\": \"MacBook\",\"email\": \"pony@qq.com\",\"phone\": 13812341234},\n",
        "    {\"buyer_name\": \"Bill\",\"product\": \"AirPods\",\"email\": \"bill@ms.com\",\"phone\": 13812341235},\n",
        "    {\"buyer_name\": \"Hank\",\"product\": \"iPhone\",\"email\": \"hank@xyz.com\",\"phone\": 13812341239},\n",
        "\n",
        "* 写一个订单类 Order，构造函数接收4个参数：客户姓名，产品名，邮箱，手机号\n",
        "* 为 Order 写一个函数 `deliver_mail` 如果调用就输出下面格式的邮件：\n",
        "\n",
        "* **to [email]**\n",
        "\n",
        "\n",
        "```\n",
        "Dear [用户姓名]:\n",
        "\n",
        "Your purchased product : [产品名] is delivered!\n",
        "\n",
        "Thanks for your choosing!\n",
        "为 Order 写一个函数 deliver_sms 如果调用就输出下面格式的短信：\n",
        "\n",
        "```\n",
        "* 为 Order 写一个函数 deliver_sms 如果调用就输出下面格式的短信：\n",
        "\n",
        "* **to [phone]**\n",
        "\n",
        "\n",
        "\n",
        "```\n",
        "Dear [用户姓名]:\n",
        "\n",
        "Your purchased product : [产品名] is delivered!\n",
        "\n",
        "Thanks for your choosing!\n",
        "```\n",
        "\n",
        "\n",
        "* 遍历orders, 创建 Order类的对象实例，对每个对象调用deliver_mail/deliver_sms 方法\n",
        "\n",
        "\n",
        " **解题提示：这是一道复合题**\n",
        "\n",
        "* orders 的最外层是 [ ], 表示它是一个list\n",
        "\n",
        "* 可以用 print(type(orders)) 来看它是什么类型\n",
        "\n",
        "* orders 的里层是 { }, 表示里面放的是 dict;\n",
        "\n",
        "* orders 是一个里面成员都是 dict的 list,\n",
        "\n",
        "* orders[0] 表示是 orders 的第一个元素，print(type(orders[0]))\n",
        "\n",
        "* 如果你想知道 orders (订单表）里有多个 order(订单), 可以使用 len(orders) 查看里面有多少订单\n",
        "\n",
        "* 如果要遍历订单表有两种方法：\n",
        "\n",
        "* 第一种方法更为简单\n",
        "\n",
        "\n",
        "```\n",
        "for order in orders:\n",
        "    print(order)\n",
        "```\n",
        "\n",
        "\n",
        "* 第二种方法知道是第几个订单\n",
        "\n",
        "\n",
        "```\n",
        "for i in range(len(orders)):\n",
        "    order = orders[i]\n",
        "    print(order)\n",
        "```\n"
      ],
      "metadata": {
        "id": "Y9iZF6Ve35a5"
      }
    }
  ]
}